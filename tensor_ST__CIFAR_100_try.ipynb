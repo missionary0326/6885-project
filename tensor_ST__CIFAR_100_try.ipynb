{
  "nbformat": 4,
  "nbformat_minor": 0,
  "metadata": {
    "colab": {
      "provenance": [],
      "machine_shape": "hm",
      "gpuType": "A100",
      "authorship_tag": "ABX9TyOxk7EgulTw3CPYElHrsv3g"
    },
    "kernelspec": {
      "name": "python3",
      "display_name": "Python 3"
    },
    "language_info": {
      "name": "python"
    },
    "accelerator": "GPU"
  },
  "cells": [
    {
      "cell_type": "code",
      "execution_count": 2,
      "metadata": {
        "colab": {
          "base_uri": "https://localhost:8080/"
        },
        "id": "rhUtJ50jB1aq",
        "outputId": "32ed4912-835a-4ec4-f41f-fdb1f38c28b6"
      },
      "outputs": [
        {
          "output_type": "stream",
          "name": "stdout",
          "text": [
            "sample_data\n"
          ]
        }
      ],
      "source": [
        "!ls\n"
      ]
    },
    {
      "cell_type": "code",
      "source": [
        "!python3 utils.py"
      ],
      "metadata": {
        "colab": {
          "base_uri": "https://localhost:8080/"
        },
        "id": "ofECXQsWF40p",
        "outputId": "03995b7b-c9a2-4b16-e75b-e3e4d92f6984"
      },
      "execution_count": 3,
      "outputs": [
        {
          "output_type": "stream",
          "name": "stdout",
          "text": [
            "2024-12-17 19:28:24.873640: E external/local_xla/xla/stream_executor/cuda/cuda_fft.cc:485] Unable to register cuFFT factory: Attempting to register factory for plugin cuFFT when one has already been registered\n",
            "2024-12-17 19:28:24.911117: E external/local_xla/xla/stream_executor/cuda/cuda_dnn.cc:8454] Unable to register cuDNN factory: Attempting to register factory for plugin cuDNN when one has already been registered\n",
            "2024-12-17 19:28:24.922907: E external/local_xla/xla/stream_executor/cuda/cuda_blas.cc:1452] Unable to register cuBLAS factory: Attempting to register factory for plugin cuBLAS when one has already been registered\n",
            "2024-12-17 19:28:24.948892: I tensorflow/core/platform/cpu_feature_guard.cc:210] This TensorFlow binary is optimized to use available CPU instructions in performance-critical operations.\n",
            "To enable the following instructions: AVX2 FMA, in other operations, rebuild TensorFlow with the appropriate compiler flags.\n",
            "2024-12-17 19:28:26.622441: W tensorflow/compiler/tf2tensorrt/utils/py_utils.cc:38] TF-TRT Warning: Could not find TensorRT\n"
          ]
        }
      ]
    },
    {
      "cell_type": "code",
      "source": [
        "!python3 train_cifar100.ipynb.py"
      ],
      "metadata": {
        "colab": {
          "base_uri": "https://localhost:8080/"
        },
        "id": "qZVrPjbkHd-J",
        "outputId": "6339776d-6d47-476c-a4fe-00bb09b901a8"
      },
      "execution_count": 7,
      "outputs": [
        {
          "output_type": "stream",
          "name": "stdout",
          "text": [
            "2024-12-17 21:23:27.379223: E external/local_xla/xla/stream_executor/cuda/cuda_fft.cc:485] Unable to register cuFFT factory: Attempting to register factory for plugin cuFFT when one has already been registered\n",
            "2024-12-17 21:23:27.398550: E external/local_xla/xla/stream_executor/cuda/cuda_dnn.cc:8454] Unable to register cuDNN factory: Attempting to register factory for plugin cuDNN when one has already been registered\n",
            "2024-12-17 21:23:27.404355: E external/local_xla/xla/stream_executor/cuda/cuda_blas.cc:1452] Unable to register cuBLAS factory: Attempting to register factory for plugin cuBLAS when one has already been registered\n",
            "2024-12-17 21:23:28.604864: W tensorflow/compiler/tf2tensorrt/utils/py_utils.cc:38] TF-TRT Warning: Could not find TensorRT\n",
            "2024-12-17 21:23:31.422936: W tensorflow/core/common_runtime/gpu/gpu_bfc_allocator.cc:47] Overriding orig_value setting because the TF_FORCE_GPU_ALLOW_GROWTH environment variable is set. Original config value was 0.\n",
            "/usr/local/lib/python3.10/dist-packages/keras/src/layers/layer.py:391: UserWarning: `build()` was called on layer 'swin_tiny_patch4_window7', however the layer does not have a `build()` method implemented and it looks like it has unbuilt state. This will cause the layer to be marked as built, despite not being actually built, which may cause failures down the line. Make sure to implement a proper `build()` method.\n",
            "  warnings.warn(\n",
            "No pre-trained weights found, training from scratch.\n",
            "\u001b[1mModel: \"swin_tiny_patch4_window7\"\u001b[0m\n",
            "┏━━━━━━━━━━━━━━━━━━━━━━━━━━━━━━━━━━━━━━┳━━━━━━━━━━━━━━━━━━━━━━━━━━━━━┳━━━━━━━━━━━━━━━━━┓\n",
            "┃\u001b[1m \u001b[0m\u001b[1mLayer (type)                        \u001b[0m\u001b[1m \u001b[0m┃\u001b[1m \u001b[0m\u001b[1mOutput Shape               \u001b[0m\u001b[1m \u001b[0m┃\u001b[1m \u001b[0m\u001b[1m        Param #\u001b[0m\u001b[1m \u001b[0m┃\n",
            "┡━━━━━━━━━━━━━━━━━━━━━━━━━━━━━━━━━━━━━━╇━━━━━━━━━━━━━━━━━━━━━━━━━━━━━╇━━━━━━━━━━━━━━━━━┩\n",
            "│ patch_embed (\u001b[94mPatchEmbed\u001b[0m)             │ ?                           │     \u001b[32m0\u001b[0m (unbuilt) │\n",
            "├──────────────────────────────────────┼─────────────────────────────┼─────────────────┤\n",
            "│ dropout (\u001b[94mDropout\u001b[0m)                    │ ?                           │     \u001b[32m0\u001b[0m (unbuilt) │\n",
            "├──────────────────────────────────────┼─────────────────────────────┼─────────────────┤\n",
            "│ layer0 (\u001b[94mBasicLayer\u001b[0m)                  │ ?                           │     \u001b[32m0\u001b[0m (unbuilt) │\n",
            "├──────────────────────────────────────┼─────────────────────────────┼─────────────────┤\n",
            "│ layer1 (\u001b[94mBasicLayer\u001b[0m)                  │ ?                           │     \u001b[32m0\u001b[0m (unbuilt) │\n",
            "├──────────────────────────────────────┼─────────────────────────────┼─────────────────┤\n",
            "│ layer2 (\u001b[94mBasicLayer\u001b[0m)                  │ ?                           │     \u001b[32m0\u001b[0m (unbuilt) │\n",
            "├──────────────────────────────────────┼─────────────────────────────┼─────────────────┤\n",
            "│ layer3 (\u001b[94mBasicLayer\u001b[0m)                  │ ?                           │     \u001b[32m0\u001b[0m (unbuilt) │\n",
            "├──────────────────────────────────────┼─────────────────────────────┼─────────────────┤\n",
            "│ norm (\u001b[94mLayerNormalization\u001b[0m)            │ ?                           │     \u001b[32m0\u001b[0m (unbuilt) │\n",
            "├──────────────────────────────────────┼─────────────────────────────┼─────────────────┤\n",
            "│ head (\u001b[94mDense\u001b[0m)                         │ ?                           │     \u001b[32m0\u001b[0m (unbuilt) │\n",
            "└──────────────────────────────────────┴─────────────────────────────┴─────────────────┘\n",
            "\u001b[1m Total params: \u001b[0m\u001b[32m0\u001b[0m (0.00 B)\n",
            "\u001b[1m Trainable params: \u001b[0m\u001b[32m0\u001b[0m (0.00 B)\n",
            "\u001b[1m Non-trainable params: \u001b[0m\u001b[32m0\u001b[0m (0.00 B)\n",
            "  0% 0/1563 [00:00<?, ?it/s]WARNING: All log messages before absl::InitializeLog() is called are written to STDERR\n",
            "W0000 00:00:1734470642.372319    9760 gpu_timer.cc:114] Skipping the delay kernel, measurement accuracy will be reduced\n",
            "W0000 00:00:1734470642.460477    9760 gpu_timer.cc:114] Skipping the delay kernel, measurement accuracy will be reduced\n",
            "W0000 00:00:1734470642.461036    9760 gpu_timer.cc:114] Skipping the delay kernel, measurement accuracy will be reduced\n",
            "W0000 00:00:1734470642.461520    9760 gpu_timer.cc:114] Skipping the delay kernel, measurement accuracy will be reduced\n",
            "W0000 00:00:1734470642.462012    9760 gpu_timer.cc:114] Skipping the delay kernel, measurement accuracy will be reduced\n",
            "W0000 00:00:1734470642.462497    9760 gpu_timer.cc:114] Skipping the delay kernel, measurement accuracy will be reduced\n",
            "W0000 00:00:1734470642.462976    9760 gpu_timer.cc:114] Skipping the delay kernel, measurement accuracy will be reduced\n",
            "W0000 00:00:1734470642.465256    9760 gpu_timer.cc:114] Skipping the delay kernel, measurement accuracy will be reduced\n",
            "W0000 00:00:1734470642.472208    9760 gpu_timer.cc:114] Skipping the delay kernel, measurement accuracy will be reduced\n",
            "W0000 00:00:1734470642.472696    9760 gpu_timer.cc:114] Skipping the delay kernel, measurement accuracy will be reduced\n",
            "W0000 00:00:1734470642.473169    9760 gpu_timer.cc:114] Skipping the delay kernel, measurement accuracy will be reduced\n",
            "W0000 00:00:1734470642.473698    9760 gpu_timer.cc:114] Skipping the delay kernel, measurement accuracy will be reduced\n",
            "W0000 00:00:1734470642.474218    9760 gpu_timer.cc:114] Skipping the delay kernel, measurement accuracy will be reduced\n",
            "W0000 00:00:1734470642.474748    9760 gpu_timer.cc:114] Skipping the delay kernel, measurement accuracy will be reduced\n",
            "W0000 00:00:1734470642.475377    9760 gpu_timer.cc:114] Skipping the delay kernel, measurement accuracy will be reduced\n",
            "W0000 00:00:1734470642.499391    9760 gpu_timer.cc:114] Skipping the delay kernel, measurement accuracy will be reduced\n",
            "W0000 00:00:1734470642.500059    9760 gpu_timer.cc:114] Skipping the delay kernel, measurement accuracy will be reduced\n",
            "W0000 00:00:1734470642.500714    9760 gpu_timer.cc:114] Skipping the delay kernel, measurement accuracy will be reduced\n",
            "W0000 00:00:1734470642.502911    9760 gpu_timer.cc:114] Skipping the delay kernel, measurement accuracy will be reduced\n",
            "W0000 00:00:1734470642.503551    9760 gpu_timer.cc:114] Skipping the delay kernel, measurement accuracy will be reduced\n",
            "W0000 00:00:1734470642.504204    9760 gpu_timer.cc:114] Skipping the delay kernel, measurement accuracy will be reduced\n",
            "W0000 00:00:1734470642.504978    9760 gpu_timer.cc:114] Skipping the delay kernel, measurement accuracy will be reduced\n",
            "W0000 00:00:1734470642.505639    9760 gpu_timer.cc:114] Skipping the delay kernel, measurement accuracy will be reduced\n",
            "W0000 00:00:1734470642.506331    9760 gpu_timer.cc:114] Skipping the delay kernel, measurement accuracy will be reduced\n",
            "W0000 00:00:1734470642.540410    9760 gpu_timer.cc:114] Skipping the delay kernel, measurement accuracy will be reduced\n",
            "W0000 00:00:1734470642.540955    9760 gpu_timer.cc:114] Skipping the delay kernel, measurement accuracy will be reduced\n",
            "W0000 00:00:1734470642.543241    9760 gpu_timer.cc:114] Skipping the delay kernel, measurement accuracy will be reduced\n",
            "W0000 00:00:1734470642.545488    9760 gpu_timer.cc:114] Skipping the delay kernel, measurement accuracy will be reduced\n",
            "W0000 00:00:1734470642.546155    9760 gpu_timer.cc:114] Skipping the delay kernel, measurement accuracy will be reduced\n",
            "W0000 00:00:1734470642.548471    9760 gpu_timer.cc:114] Skipping the delay kernel, measurement accuracy will be reduced\n",
            "W0000 00:00:1734470642.549193    9760 gpu_timer.cc:114] Skipping the delay kernel, measurement accuracy will be reduced\n",
            "W0000 00:00:1734470642.551646    9760 gpu_timer.cc:114] Skipping the delay kernel, measurement accuracy will be reduced\n",
            "W0000 00:00:1734470642.553962    9760 gpu_timer.cc:114] Skipping the delay kernel, measurement accuracy will be reduced\n",
            "W0000 00:00:1734470642.554736    9760 gpu_timer.cc:114] Skipping the delay kernel, measurement accuracy will be reduced\n",
            "W0000 00:00:1734470642.555534    9760 gpu_timer.cc:114] Skipping the delay kernel, measurement accuracy will be reduced\n",
            "W0000 00:00:1734470642.556706    9760 gpu_timer.cc:114] Skipping the delay kernel, measurement accuracy will be reduced\n",
            "W0000 00:00:1734470644.652555    9760 gpu_timer.cc:114] Skipping the delay kernel, measurement accuracy will be reduced\n",
            "W0000 00:00:1734470644.653982    9760 gpu_timer.cc:114] Skipping the delay kernel, measurement accuracy will be reduced\n",
            "W0000 00:00:1734470644.654534    9760 gpu_timer.cc:114] Skipping the delay kernel, measurement accuracy will be reduced\n",
            "W0000 00:00:1734470644.655037    9760 gpu_timer.cc:114] Skipping the delay kernel, measurement accuracy will be reduced\n",
            "W0000 00:00:1734470644.655611    9760 gpu_timer.cc:114] Skipping the delay kernel, measurement accuracy will be reduced\n",
            "W0000 00:00:1734470644.656145    9760 gpu_timer.cc:114] Skipping the delay kernel, measurement accuracy will be reduced\n",
            "W0000 00:00:1734470644.656662    9760 gpu_timer.cc:114] Skipping the delay kernel, measurement accuracy will be reduced\n",
            "W0000 00:00:1734470644.657196    9760 gpu_timer.cc:114] Skipping the delay kernel, measurement accuracy will be reduced\n",
            "W0000 00:00:1734470644.657994    9760 gpu_timer.cc:114] Skipping the delay kernel, measurement accuracy will be reduced\n",
            "W0000 00:00:1734470644.658654    9760 gpu_timer.cc:114] Skipping the delay kernel, measurement accuracy will be reduced\n",
            "W0000 00:00:1734470644.659238    9760 gpu_timer.cc:114] Skipping the delay kernel, measurement accuracy will be reduced\n",
            "W0000 00:00:1734470644.659993    9760 gpu_timer.cc:114] Skipping the delay kernel, measurement accuracy will be reduced\n",
            "W0000 00:00:1734470644.660579    9760 gpu_timer.cc:114] Skipping the delay kernel, measurement accuracy will be reduced\n",
            "W0000 00:00:1734470644.661159    9760 gpu_timer.cc:114] Skipping the delay kernel, measurement accuracy will be reduced\n",
            "W0000 00:00:1734470644.661737    9760 gpu_timer.cc:114] Skipping the delay kernel, measurement accuracy will be reduced\n",
            "W0000 00:00:1734470644.662309    9760 gpu_timer.cc:114] Skipping the delay kernel, measurement accuracy will be reduced\n",
            "W0000 00:00:1734470644.662878    9760 gpu_timer.cc:114] Skipping the delay kernel, measurement accuracy will be reduced\n",
            "W0000 00:00:1734470644.663438    9760 gpu_timer.cc:114] Skipping the delay kernel, measurement accuracy will be reduced\n",
            "W0000 00:00:1734470644.664238    9760 gpu_timer.cc:114] Skipping the delay kernel, measurement accuracy will be reduced\n",
            "W0000 00:00:1734470644.664852    9760 gpu_timer.cc:114] Skipping the delay kernel, measurement accuracy will be reduced\n",
            "W0000 00:00:1734470644.665437    9760 gpu_timer.cc:114] Skipping the delay kernel, measurement accuracy will be reduced\n",
            "W0000 00:00:1734470644.666200    9760 gpu_timer.cc:114] Skipping the delay kernel, measurement accuracy will be reduced\n",
            "W0000 00:00:1734470644.666797    9760 gpu_timer.cc:114] Skipping the delay kernel, measurement accuracy will be reduced\n",
            "W0000 00:00:1734470644.667366    9760 gpu_timer.cc:114] Skipping the delay kernel, measurement accuracy will be reduced\n",
            "W0000 00:00:1734470644.667950    9760 gpu_timer.cc:114] Skipping the delay kernel, measurement accuracy will be reduced\n",
            "W0000 00:00:1734470644.668521    9760 gpu_timer.cc:114] Skipping the delay kernel, measurement accuracy will be reduced\n",
            "W0000 00:00:1734470644.669113    9760 gpu_timer.cc:114] Skipping the delay kernel, measurement accuracy will be reduced\n",
            "W0000 00:00:1734470644.674591    9760 gpu_timer.cc:114] Skipping the delay kernel, measurement accuracy will be reduced\n",
            "W0000 00:00:1734470644.675475    9760 gpu_timer.cc:114] Skipping the delay kernel, measurement accuracy will be reduced\n",
            "W0000 00:00:1734470644.676319    9760 gpu_timer.cc:114] Skipping the delay kernel, measurement accuracy will be reduced\n",
            "W0000 00:00:1734470644.679857    9760 gpu_timer.cc:114] Skipping the delay kernel, measurement accuracy will be reduced\n",
            "W0000 00:00:1734470644.682480    9760 gpu_timer.cc:114] Skipping the delay kernel, measurement accuracy will be reduced\n",
            "W0000 00:00:1734470644.683361    9760 gpu_timer.cc:114] Skipping the delay kernel, measurement accuracy will be reduced\n",
            "W0000 00:00:1734470644.684173    9760 gpu_timer.cc:114] Skipping the delay kernel, measurement accuracy will be reduced\n",
            "W0000 00:00:1734470644.686286    9760 gpu_timer.cc:114] Skipping the delay kernel, measurement accuracy will be reduced\n",
            "W0000 00:00:1734470644.687052    9760 gpu_timer.cc:114] Skipping the delay kernel, measurement accuracy will be reduced\n",
            "W0000 00:00:1734470644.689213    9760 gpu_timer.cc:114] Skipping the delay kernel, measurement accuracy will be reduced\n",
            "W0000 00:00:1734470644.690850    9760 gpu_timer.cc:114] Skipping the delay kernel, measurement accuracy will be reduced\n",
            "W0000 00:00:1734470644.693254    9760 gpu_timer.cc:114] Skipping the delay kernel, measurement accuracy will be reduced\n",
            "W0000 00:00:1734470644.694227    9760 gpu_timer.cc:114] Skipping the delay kernel, measurement accuracy will be reduced\n",
            "W0000 00:00:1734470644.697270    9760 gpu_timer.cc:114] Skipping the delay kernel, measurement accuracy will be reduced\n",
            "W0000 00:00:1734470644.699021    9760 gpu_timer.cc:114] Skipping the delay kernel, measurement accuracy will be reduced\n",
            "train epoch[1/10] loss:4.109, acc:0.070: 100% 1562/1563 [04:19<00:00,  6.94it/s]W0000 00:00:1734470883.622127    9753 gpu_timer.cc:114] Skipping the delay kernel, measurement accuracy will be reduced\n",
            "W0000 00:00:1734470883.622623    9753 gpu_timer.cc:114] Skipping the delay kernel, measurement accuracy will be reduced\n",
            "W0000 00:00:1734470883.623001    9753 gpu_timer.cc:114] Skipping the delay kernel, measurement accuracy will be reduced\n",
            "W0000 00:00:1734470883.623371    9753 gpu_timer.cc:114] Skipping the delay kernel, measurement accuracy will be reduced\n",
            "W0000 00:00:1734470883.623750    9753 gpu_timer.cc:114] Skipping the delay kernel, measurement accuracy will be reduced\n",
            "W0000 00:00:1734470883.624121    9753 gpu_timer.cc:114] Skipping the delay kernel, measurement accuracy will be reduced\n",
            "W0000 00:00:1734470883.624531    9753 gpu_timer.cc:114] Skipping the delay kernel, measurement accuracy will be reduced\n",
            "W0000 00:00:1734470883.624969    9753 gpu_timer.cc:114] Skipping the delay kernel, measurement accuracy will be reduced\n",
            "W0000 00:00:1734470883.625383    9753 gpu_timer.cc:114] Skipping the delay kernel, measurement accuracy will be reduced\n",
            "W0000 00:00:1734470883.625790    9753 gpu_timer.cc:114] Skipping the delay kernel, measurement accuracy will be reduced\n",
            "W0000 00:00:1734470883.626176    9753 gpu_timer.cc:114] Skipping the delay kernel, measurement accuracy will be reduced\n",
            "W0000 00:00:1734470883.626561    9753 gpu_timer.cc:114] Skipping the delay kernel, measurement accuracy will be reduced\n",
            "W0000 00:00:1734470883.626943    9753 gpu_timer.cc:114] Skipping the delay kernel, measurement accuracy will be reduced\n",
            "W0000 00:00:1734470883.627314    9753 gpu_timer.cc:114] Skipping the delay kernel, measurement accuracy will be reduced\n",
            "W0000 00:00:1734470883.627736    9753 gpu_timer.cc:114] Skipping the delay kernel, measurement accuracy will be reduced\n",
            "W0000 00:00:1734470883.628271    9753 gpu_timer.cc:114] Skipping the delay kernel, measurement accuracy will be reduced\n",
            "W0000 00:00:1734470883.628738    9753 gpu_timer.cc:114] Skipping the delay kernel, measurement accuracy will be reduced\n",
            "W0000 00:00:1734470883.629183    9753 gpu_timer.cc:114] Skipping the delay kernel, measurement accuracy will be reduced\n",
            "W0000 00:00:1734470883.629639    9753 gpu_timer.cc:114] Skipping the delay kernel, measurement accuracy will be reduced\n",
            "W0000 00:00:1734470883.630083    9753 gpu_timer.cc:114] Skipping the delay kernel, measurement accuracy will be reduced\n",
            "W0000 00:00:1734470883.630541    9753 gpu_timer.cc:114] Skipping the delay kernel, measurement accuracy will be reduced\n",
            "W0000 00:00:1734470883.631033    9753 gpu_timer.cc:114] Skipping the delay kernel, measurement accuracy will be reduced\n",
            "W0000 00:00:1734470883.631496    9753 gpu_timer.cc:114] Skipping the delay kernel, measurement accuracy will be reduced\n",
            "W0000 00:00:1734470883.631987    9753 gpu_timer.cc:114] Skipping the delay kernel, measurement accuracy will be reduced\n",
            "W0000 00:00:1734470883.632703    9753 gpu_timer.cc:114] Skipping the delay kernel, measurement accuracy will be reduced\n",
            "W0000 00:00:1734470883.633058    9753 gpu_timer.cc:114] Skipping the delay kernel, measurement accuracy will be reduced\n",
            "W0000 00:00:1734470883.633422    9753 gpu_timer.cc:114] Skipping the delay kernel, measurement accuracy will be reduced\n",
            "W0000 00:00:1734470883.633851    9753 gpu_timer.cc:114] Skipping the delay kernel, measurement accuracy will be reduced\n",
            "W0000 00:00:1734470883.634284    9753 gpu_timer.cc:114] Skipping the delay kernel, measurement accuracy will be reduced\n",
            "W0000 00:00:1734470883.634716    9753 gpu_timer.cc:114] Skipping the delay kernel, measurement accuracy will be reduced\n",
            "W0000 00:00:1734470883.635199    9753 gpu_timer.cc:114] Skipping the delay kernel, measurement accuracy will be reduced\n",
            "W0000 00:00:1734470883.635678    9753 gpu_timer.cc:114] Skipping the delay kernel, measurement accuracy will be reduced\n",
            "W0000 00:00:1734470883.636194    9753 gpu_timer.cc:114] Skipping the delay kernel, measurement accuracy will be reduced\n",
            "W0000 00:00:1734470883.636710    9753 gpu_timer.cc:114] Skipping the delay kernel, measurement accuracy will be reduced\n",
            "W0000 00:00:1734470883.637244    9753 gpu_timer.cc:114] Skipping the delay kernel, measurement accuracy will be reduced\n",
            "W0000 00:00:1734470883.637914    9753 gpu_timer.cc:114] Skipping the delay kernel, measurement accuracy will be reduced\n",
            "W0000 00:00:1734470883.710983    9753 gpu_timer.cc:114] Skipping the delay kernel, measurement accuracy will be reduced\n",
            "W0000 00:00:1734470883.730688    9753 gpu_timer.cc:114] Skipping the delay kernel, measurement accuracy will be reduced\n",
            "W0000 00:00:1734470883.732049    9753 gpu_timer.cc:114] Skipping the delay kernel, measurement accuracy will be reduced\n",
            "W0000 00:00:1734470883.732479    9753 gpu_timer.cc:114] Skipping the delay kernel, measurement accuracy will be reduced\n",
            "W0000 00:00:1734470883.732899    9753 gpu_timer.cc:114] Skipping the delay kernel, measurement accuracy will be reduced\n",
            "W0000 00:00:1734470883.733377    9753 gpu_timer.cc:114] Skipping the delay kernel, measurement accuracy will be reduced\n",
            "W0000 00:00:1734470883.733806    9753 gpu_timer.cc:114] Skipping the delay kernel, measurement accuracy will be reduced\n",
            "W0000 00:00:1734470883.734272    9753 gpu_timer.cc:114] Skipping the delay kernel, measurement accuracy will be reduced\n",
            "W0000 00:00:1734470883.734681    9753 gpu_timer.cc:114] Skipping the delay kernel, measurement accuracy will be reduced\n",
            "W0000 00:00:1734470883.735129    9753 gpu_timer.cc:114] Skipping the delay kernel, measurement accuracy will be reduced\n",
            "W0000 00:00:1734470883.735690    9753 gpu_timer.cc:114] Skipping the delay kernel, measurement accuracy will be reduced\n",
            "W0000 00:00:1734470883.736436    9753 gpu_timer.cc:114] Skipping the delay kernel, measurement accuracy will be reduced\n",
            "W0000 00:00:1734470883.737223    9753 gpu_timer.cc:114] Skipping the delay kernel, measurement accuracy will be reduced\n",
            "W0000 00:00:1734470883.738282    9753 gpu_timer.cc:114] Skipping the delay kernel, measurement accuracy will be reduced\n",
            "W0000 00:00:1734470883.739210    9753 gpu_timer.cc:114] Skipping the delay kernel, measurement accuracy will be reduced\n",
            "train epoch[1/10] loss:4.109, acc:0.070: 100% 1563/1563 [04:31<00:00,  5.75it/s]\n",
            "  0% 0/313 [00:00<?, ?it/s]W0000 00:00:1734470885.619497    9752 gpu_timer.cc:114] Skipping the delay kernel, measurement accuracy will be reduced\n",
            "W0000 00:00:1734470885.622851    9752 gpu_timer.cc:114] Skipping the delay kernel, measurement accuracy will be reduced\n",
            "W0000 00:00:1734470885.623359    9752 gpu_timer.cc:114] Skipping the delay kernel, measurement accuracy will be reduced\n",
            "W0000 00:00:1734470885.623884    9752 gpu_timer.cc:114] Skipping the delay kernel, measurement accuracy will be reduced\n",
            "W0000 00:00:1734470885.624406    9752 gpu_timer.cc:114] Skipping the delay kernel, measurement accuracy will be reduced\n",
            "W0000 00:00:1734470885.783941    9752 gpu_timer.cc:114] Skipping the delay kernel, measurement accuracy will be reduced\n",
            "W0000 00:00:1734470885.784450    9752 gpu_timer.cc:114] Skipping the delay kernel, measurement accuracy will be reduced\n",
            "W0000 00:00:1734470885.784954    9752 gpu_timer.cc:114] Skipping the delay kernel, measurement accuracy will be reduced\n",
            "W0000 00:00:1734470885.785426    9752 gpu_timer.cc:114] Skipping the delay kernel, measurement accuracy will be reduced\n",
            "W0000 00:00:1734470885.785890    9752 gpu_timer.cc:114] Skipping the delay kernel, measurement accuracy will be reduced\n",
            "W0000 00:00:1734470885.786391    9752 gpu_timer.cc:114] Skipping the delay kernel, measurement accuracy will be reduced\n",
            "W0000 00:00:1734470885.786871    9752 gpu_timer.cc:114] Skipping the delay kernel, measurement accuracy will be reduced\n",
            "W0000 00:00:1734470885.787367    9752 gpu_timer.cc:114] Skipping the delay kernel, measurement accuracy will be reduced\n",
            "W0000 00:00:1734470885.787868    9752 gpu_timer.cc:114] Skipping the delay kernel, measurement accuracy will be reduced\n",
            "W0000 00:00:1734470885.788359    9752 gpu_timer.cc:114] Skipping the delay kernel, measurement accuracy will be reduced\n",
            "W0000 00:00:1734470885.788897    9752 gpu_timer.cc:114] Skipping the delay kernel, measurement accuracy will be reduced\n",
            "W0000 00:00:1734470885.789555    9752 gpu_timer.cc:114] Skipping the delay kernel, measurement accuracy will be reduced\n",
            "W0000 00:00:1734470885.790109    9752 gpu_timer.cc:114] Skipping the delay kernel, measurement accuracy will be reduced\n",
            "W0000 00:00:1734470885.790672    9752 gpu_timer.cc:114] Skipping the delay kernel, measurement accuracy will be reduced\n",
            "W0000 00:00:1734470885.791210    9752 gpu_timer.cc:114] Skipping the delay kernel, measurement accuracy will be reduced\n",
            "W0000 00:00:1734470885.791756    9752 gpu_timer.cc:114] Skipping the delay kernel, measurement accuracy will be reduced\n",
            "W0000 00:00:1734470885.792287    9752 gpu_timer.cc:114] Skipping the delay kernel, measurement accuracy will be reduced\n",
            "W0000 00:00:1734470885.793918    9752 gpu_timer.cc:114] Skipping the delay kernel, measurement accuracy will be reduced\n",
            "W0000 00:00:1734470885.802408    9752 gpu_timer.cc:114] Skipping the delay kernel, measurement accuracy will be reduced\n",
            "W0000 00:00:1734470885.802887    9752 gpu_timer.cc:114] Skipping the delay kernel, measurement accuracy will be reduced\n",
            "W0000 00:00:1734470885.803513    9752 gpu_timer.cc:114] Skipping the delay kernel, measurement accuracy will be reduced\n",
            "W0000 00:00:1734470885.804077    9752 gpu_timer.cc:114] Skipping the delay kernel, measurement accuracy will be reduced\n",
            "W0000 00:00:1734470885.804664    9752 gpu_timer.cc:114] Skipping the delay kernel, measurement accuracy will be reduced\n",
            "W0000 00:00:1734470885.805221    9752 gpu_timer.cc:114] Skipping the delay kernel, measurement accuracy will be reduced\n",
            "W0000 00:00:1734470885.805865    9752 gpu_timer.cc:114] Skipping the delay kernel, measurement accuracy will be reduced\n",
            "W0000 00:00:1734470885.806490    9752 gpu_timer.cc:114] Skipping the delay kernel, measurement accuracy will be reduced\n",
            "W0000 00:00:1734470885.807052    9752 gpu_timer.cc:114] Skipping the delay kernel, measurement accuracy will be reduced\n",
            "valid epoch[1/10] loss:3.831, acc:0.109:  99% 310/313 [00:15<00:00, 24.08it/s]W0000 00:00:1734470900.629636    9752 gpu_timer.cc:114] Skipping the delay kernel, measurement accuracy will be reduced\n",
            "W0000 00:00:1734470900.630242    9752 gpu_timer.cc:114] Skipping the delay kernel, measurement accuracy will be reduced\n",
            "W0000 00:00:1734470900.630639    9752 gpu_timer.cc:114] Skipping the delay kernel, measurement accuracy will be reduced\n",
            "W0000 00:00:1734470900.631019    9752 gpu_timer.cc:114] Skipping the delay kernel, measurement accuracy will be reduced\n",
            "W0000 00:00:1734470900.631467    9752 gpu_timer.cc:114] Skipping the delay kernel, measurement accuracy will be reduced\n",
            "W0000 00:00:1734470900.631868    9752 gpu_timer.cc:114] Skipping the delay kernel, measurement accuracy will be reduced\n",
            "W0000 00:00:1734470900.632282    9752 gpu_timer.cc:114] Skipping the delay kernel, measurement accuracy will be reduced\n",
            "W0000 00:00:1734470900.632762    9752 gpu_timer.cc:114] Skipping the delay kernel, measurement accuracy will be reduced\n",
            "W0000 00:00:1734470900.633200    9752 gpu_timer.cc:114] Skipping the delay kernel, measurement accuracy will be reduced\n",
            "W0000 00:00:1734470900.633644    9752 gpu_timer.cc:114] Skipping the delay kernel, measurement accuracy will be reduced\n",
            "W0000 00:00:1734470900.634064    9752 gpu_timer.cc:114] Skipping the delay kernel, measurement accuracy will be reduced\n",
            "W0000 00:00:1734470900.634524    9752 gpu_timer.cc:114] Skipping the delay kernel, measurement accuracy will be reduced\n",
            "W0000 00:00:1734470900.634990    9752 gpu_timer.cc:114] Skipping the delay kernel, measurement accuracy will be reduced\n",
            "W0000 00:00:1734470900.635428    9752 gpu_timer.cc:114] Skipping the delay kernel, measurement accuracy will be reduced\n",
            "W0000 00:00:1734470900.636083    9752 gpu_timer.cc:114] Skipping the delay kernel, measurement accuracy will be reduced\n",
            "valid epoch[1/10] loss:3.830, acc:0.110: 100% 313/313 [00:16<00:00, 18.50it/s]\n",
            "Saved best model weights at epoch 1\n",
            "train epoch[2/10] loss:3.636, acc:0.140: 100% 1563/1563 [03:46<00:00,  6.89it/s]\n",
            "valid epoch[2/10] loss:3.375, acc:0.189: 100% 313/313 [00:13<00:00, 23.76it/s]\n",
            "Saved best model weights at epoch 2\n",
            "train epoch[3/10] loss:3.246, acc:0.205: 100% 1563/1563 [03:46<00:00,  6.90it/s]\n",
            "valid epoch[3/10] loss:3.037, acc:0.244: 100% 313/313 [00:13<00:00, 23.99it/s]\n",
            "Saved best model weights at epoch 3\n",
            "train epoch[4/10] loss:2.951, acc:0.260: 100% 1563/1563 [03:46<00:00,  6.89it/s]\n",
            "valid epoch[4/10] loss:2.791, acc:0.292: 100% 313/313 [00:13<00:00, 23.93it/s]\n",
            "Saved best model weights at epoch 4\n",
            "train epoch[5/10] loss:2.701, acc:0.311: 100% 1563/1563 [03:46<00:00,  6.90it/s]\n",
            "valid epoch[5/10] loss:2.585, acc:0.337: 100% 313/313 [00:13<00:00, 24.05it/s]\n",
            "Saved best model weights at epoch 5\n",
            "train epoch[6/10] loss:2.483, acc:0.355: 100% 1563/1563 [03:46<00:00,  6.91it/s]\n",
            "valid epoch[6/10] loss:2.443, acc:0.368: 100% 313/313 [00:13<00:00, 23.84it/s]\n",
            "Saved best model weights at epoch 6\n",
            "train epoch[7/10] loss:2.291, acc:0.397: 100% 1563/1563 [03:46<00:00,  6.91it/s]\n",
            "valid epoch[7/10] loss:2.328, acc:0.391: 100% 313/313 [00:13<00:00, 23.99it/s]\n",
            "Saved best model weights at epoch 7\n",
            "train epoch[8/10] loss:2.122, acc:0.434: 100% 1563/1563 [03:46<00:00,  6.90it/s]\n",
            "valid epoch[8/10] loss:2.196, acc:0.422: 100% 313/313 [00:13<00:00, 23.96it/s]\n",
            "Saved best model weights at epoch 8\n",
            "train epoch[9/10] loss:1.956, acc:0.467: 100% 1563/1563 [03:46<00:00,  6.91it/s]\n",
            "valid epoch[9/10] loss:2.140, acc:0.434: 100% 313/313 [00:12<00:00, 24.11it/s]\n",
            "Saved best model weights at epoch 9\n",
            "train epoch[10/10] loss:1.807, acc:0.502: 100% 1563/1563 [03:46<00:00,  6.90it/s]\n",
            "valid epoch[10/10] loss:2.067, acc:0.451: 100% 313/313 [00:13<00:00, 23.93it/s]\n",
            "Saved best model weights at epoch 10\n"
          ]
        }
      ]
    },
    {
      "cell_type": "code",
      "source": [
        "!python3 predict_cifar100.ipynb.py"
      ],
      "metadata": {
        "colab": {
          "base_uri": "https://localhost:8080/"
        },
        "id": "EW7E6Fl_pyl1",
        "outputId": "ff79da6c-d1d8-4374-8266-2b5aa6ae6008"
      },
      "execution_count": 12,
      "outputs": [
        {
          "output_type": "stream",
          "name": "stdout",
          "text": [
            "2024-12-17 22:07:52.824875: E external/local_xla/xla/stream_executor/cuda/cuda_fft.cc:485] Unable to register cuFFT factory: Attempting to register factory for plugin cuFFT when one has already been registered\n",
            "2024-12-17 22:07:52.845115: E external/local_xla/xla/stream_executor/cuda/cuda_dnn.cc:8454] Unable to register cuDNN factory: Attempting to register factory for plugin cuDNN when one has already been registered\n",
            "2024-12-17 22:07:52.851157: E external/local_xla/xla/stream_executor/cuda/cuda_blas.cc:1452] Unable to register cuBLAS factory: Attempting to register factory for plugin cuBLAS when one has already been registered\n",
            "2024-12-17 22:07:54.068825: W tensorflow/compiler/tf2tensorrt/utils/py_utils.cc:38] TF-TRT Warning: Could not find TensorRT\n",
            "2024-12-17 22:07:56.864257: W tensorflow/core/common_runtime/gpu/gpu_bfc_allocator.cc:47] Overriding orig_value setting because the TF_FORCE_GPU_ALLOW_GROWTH environment variable is set. Original config value was 0.\n",
            "/usr/local/lib/python3.10/dist-packages/keras/src/layers/layer.py:391: UserWarning: `build()` was called on layer 'swin_tiny_patch4_window7', however the layer does not have a `build()` method implemented and it looks like it has unbuilt state. This will cause the layer to be marked as built, despite not being actually built, which may cause failures down the line. Make sure to implement a proper `build()` method.\n",
            "  warnings.warn(\n",
            "Loaded trained weights.\n",
            "Figure(640x480)\n",
            "WARNING: All log messages before absl::InitializeLog() is called are written to STDERR\n",
            "I0000 00:00:1734473284.027007   21643 service.cc:146] XLA service 0x7d8e28002cf0 initialized for platform CUDA (this does not guarantee that XLA will be used). Devices:\n",
            "I0000 00:00:1734473284.027061   21643 service.cc:154]   StreamExecutor device (0): NVIDIA A100-SXM4-40GB, Compute Capability 8.0\n",
            "I0000 00:00:1734473291.400284   21643 device_compiler.h:188] Compiled cluster using XLA!  This line is logged at most once for the lifetime of the process.\n",
            "\u001b[1m1/1\u001b[0m \u001b[32m━━━━━━━━━━━━━━━━━━━━\u001b[0m\u001b[37m\u001b[0m \u001b[1m14s\u001b[0m 14s/step\n",
            "Predicted class index: 59  Probability: 0.03676066\n"
          ]
        }
      ]
    },
    {
      "cell_type": "code",
      "source": [
        "# Cell 1: 导入必要的库\n",
        "import tensorflow as tf\n",
        "import numpy as np\n",
        "import os\n",
        "import datetime\n",
        "from tqdm import tqdm\n",
        "import matplotlib.pyplot as plt\n",
        "\n",
        "# 确保notebook中显示图像\n",
        "%matplotlib inline\n",
        "\n",
        "# 导入模型创建函数\n",
        "from model import swin_tiny_patch4_window7_224 as create_model\n"
      ],
      "metadata": {
        "id": "1x7e_g2xsI1e"
      },
      "execution_count": 34,
      "outputs": []
    },
    {
      "cell_type": "code",
      "source": [
        "# Cell 2: 配置训练参数及数据集\n",
        "pre_weights_path = './save_weights/model.weights.h5'  # 可选预训练权重路径\n",
        "if not os.path.exists(\"./save_weights\"):\n",
        "    os.makedirs(\"./save_weights\")\n",
        "\n",
        "# 加载CIFAR-100数据集\n",
        "(x_train, y_train), (x_test, y_test) = tf.keras.datasets.cifar100.load_data(label_mode='fine')\n",
        "y_train = y_train.squeeze()  # shape变为 (50000,)\n",
        "y_test = y_test.squeeze()    # shape变为 (10000,)\n",
        "\n",
        "num_classes = 100\n",
        "img_size = 224\n",
        "batch_size = 128\n",
        "epochs = 20\n",
        "initial_lr = 0.0004\n",
        "weight_decay = 1e-5\n",
        "freeze_layers = False\n"
      ],
      "metadata": {
        "id": "OuSRjlhOsKPt"
      },
      "execution_count": 35,
      "outputs": []
    },
    {
      "cell_type": "code",
      "source": [
        "# Cell 3: 定义数据预处理函数\n",
        "def preprocess_train(image, label):\n",
        "    # image: [H,W,3], uint8\n",
        "    image = tf.image.resize(image, (img_size, img_size))\n",
        "    image = tf.image.random_flip_left_right(image)\n",
        "    image = tf.cast(image, tf.float32)\n",
        "    # 标准化 (image/255 - mean)/std\n",
        "    mean = tf.constant([0.485, 0.456, 0.406], dtype=tf.float32)\n",
        "    std = tf.constant([0.229, 0.224, 0.225], dtype=tf.float32)\n",
        "    image = (image/255.0 - mean) / std\n",
        "    return image, label\n",
        "\n",
        "def preprocess_val(image, label):\n",
        "    image = tf.image.resize(image, (img_size, img_size))\n",
        "    image = tf.cast(image, tf.float32)\n",
        "    mean = tf.constant([0.485, 0.456, 0.406], dtype=tf.float32)\n",
        "    std = tf.constant([0.229, 0.224, 0.225], dtype=tf.float32)\n",
        "    image = (image/255.0 - mean) / std\n",
        "    return image, label\n"
      ],
      "metadata": {
        "id": "jFQ7F26DsLUI"
      },
      "execution_count": 36,
      "outputs": []
    },
    {
      "cell_type": "code",
      "source": [
        "# Cell 4: 创建数据集管道\n",
        "train_ds = tf.data.Dataset.from_tensor_slices((x_train, y_train))\n",
        "train_ds = train_ds.shuffle(buffer_size=50000).map(preprocess_train, num_parallel_calls=tf.data.AUTOTUNE)\n",
        "train_ds = train_ds.batch(batch_size).prefetch(tf.data.AUTOTUNE)\n",
        "\n",
        "val_ds = tf.data.Dataset.from_tensor_slices((x_test, y_test))\n",
        "val_ds = val_ds.map(preprocess_val, num_parallel_calls=tf.data.AUTOTUNE)\n",
        "val_ds = val_ds.batch(batch_size).prefetch(tf.data.AUTOTUNE)\n"
      ],
      "metadata": {
        "id": "bYo-4-zEsMee"
      },
      "execution_count": 37,
      "outputs": []
    },
    {
      "cell_type": "code",
      "source": [
        "# Cell 5: 创建模型及加载预训练权重\n",
        "model = create_model(num_classes=num_classes)\n",
        "model.build((1, img_size, img_size, 3))\n",
        "\n",
        "# 如果有预训练权重则加载\n",
        "if os.path.exists(pre_weights_path):\n",
        "    model.load_weights(pre_weights_path)\n",
        "    print(\"Loaded pre-trained weights.\")\n",
        "else:\n",
        "    print(\"No pre-trained weights found, training from scratch.\")\n",
        "\n",
        "if freeze_layers:\n",
        "    for layer in model.layers:\n",
        "        if \"head\" not in layer.name:\n",
        "            layer.trainable = False\n",
        "        else:\n",
        "            print(\"training {}\".format(layer.name))\n",
        "\n",
        "model.summary()\n"
      ],
      "metadata": {
        "colab": {
          "base_uri": "https://localhost:8080/",
          "height": 426
        },
        "id": "pRG8lAIksNgh",
        "outputId": "29fe3ba2-8e2b-4403-8c30-4e042df5a479"
      },
      "execution_count": 38,
      "outputs": [
        {
          "output_type": "stream",
          "name": "stdout",
          "text": [
            "Loaded pre-trained weights.\n"
          ]
        },
        {
          "output_type": "display_data",
          "data": {
            "text/plain": [
              "\u001b[1mModel: \"swin_tiny_patch4_window7\"\u001b[0m\n"
            ],
            "text/html": [
              "<pre style=\"white-space:pre;overflow-x:auto;line-height:normal;font-family:Menlo,'DejaVu Sans Mono',consolas,'Courier New',monospace\"><span style=\"font-weight: bold\">Model: \"swin_tiny_patch4_window7\"</span>\n",
              "</pre>\n"
            ]
          },
          "metadata": {}
        },
        {
          "output_type": "display_data",
          "data": {
            "text/plain": [
              "┏━━━━━━━━━━━━━━━━━━━━━━━━━━━━━━━━━━━━━━┳━━━━━━━━━━━━━━━━━━━━━━━━━━━━━┳━━━━━━━━━━━━━━━━━┓\n",
              "┃\u001b[1m \u001b[0m\u001b[1mLayer (type)                        \u001b[0m\u001b[1m \u001b[0m┃\u001b[1m \u001b[0m\u001b[1mOutput Shape               \u001b[0m\u001b[1m \u001b[0m┃\u001b[1m \u001b[0m\u001b[1m        Param #\u001b[0m\u001b[1m \u001b[0m┃\n",
              "┡━━━━━━━━━━━━━━━━━━━━━━━━━━━━━━━━━━━━━━╇━━━━━━━━━━━━━━━━━━━━━━━━━━━━━╇━━━━━━━━━━━━━━━━━┩\n",
              "│ patch_embed_5 (\u001b[38;5;33mPatchEmbed\u001b[0m)           │ ?                           │     \u001b[38;5;34m0\u001b[0m (unbuilt) │\n",
              "├──────────────────────────────────────┼─────────────────────────────┼─────────────────┤\n",
              "│ dropout_208 (\u001b[38;5;33mDropout\u001b[0m)                │ ?                           │     \u001b[38;5;34m0\u001b[0m (unbuilt) │\n",
              "├──────────────────────────────────────┼─────────────────────────────┼─────────────────┤\n",
              "│ layer0 (\u001b[38;5;33mBasicLayer\u001b[0m)                  │ ?                           │     \u001b[38;5;34m0\u001b[0m (unbuilt) │\n",
              "├──────────────────────────────────────┼─────────────────────────────┼─────────────────┤\n",
              "│ layer1 (\u001b[38;5;33mBasicLayer\u001b[0m)                  │ ?                           │     \u001b[38;5;34m0\u001b[0m (unbuilt) │\n",
              "├──────────────────────────────────────┼─────────────────────────────┼─────────────────┤\n",
              "│ layer2 (\u001b[38;5;33mBasicLayer\u001b[0m)                  │ ?                           │     \u001b[38;5;34m0\u001b[0m (unbuilt) │\n",
              "├──────────────────────────────────────┼─────────────────────────────┼─────────────────┤\n",
              "│ layer3 (\u001b[38;5;33mBasicLayer\u001b[0m)                  │ ?                           │     \u001b[38;5;34m0\u001b[0m (unbuilt) │\n",
              "├──────────────────────────────────────┼─────────────────────────────┼─────────────────┤\n",
              "│ norm (\u001b[38;5;33mLayerNormalization\u001b[0m)            │ ?                           │     \u001b[38;5;34m0\u001b[0m (unbuilt) │\n",
              "├──────────────────────────────────────┼─────────────────────────────┼─────────────────┤\n",
              "│ head (\u001b[38;5;33mDense\u001b[0m)                         │ ?                           │     \u001b[38;5;34m0\u001b[0m (unbuilt) │\n",
              "└──────────────────────────────────────┴─────────────────────────────┴─────────────────┘\n"
            ],
            "text/html": [
              "<pre style=\"white-space:pre;overflow-x:auto;line-height:normal;font-family:Menlo,'DejaVu Sans Mono',consolas,'Courier New',monospace\">┏━━━━━━━━━━━━━━━━━━━━━━━━━━━━━━━━━━━━━━┳━━━━━━━━━━━━━━━━━━━━━━━━━━━━━┳━━━━━━━━━━━━━━━━━┓\n",
              "┃<span style=\"font-weight: bold\"> Layer (type)                         </span>┃<span style=\"font-weight: bold\"> Output Shape                </span>┃<span style=\"font-weight: bold\">         Param # </span>┃\n",
              "┡━━━━━━━━━━━━━━━━━━━━━━━━━━━━━━━━━━━━━━╇━━━━━━━━━━━━━━━━━━━━━━━━━━━━━╇━━━━━━━━━━━━━━━━━┩\n",
              "│ patch_embed_5 (<span style=\"color: #0087ff; text-decoration-color: #0087ff\">PatchEmbed</span>)           │ ?                           │     <span style=\"color: #00af00; text-decoration-color: #00af00\">0</span> (unbuilt) │\n",
              "├──────────────────────────────────────┼─────────────────────────────┼─────────────────┤\n",
              "│ dropout_208 (<span style=\"color: #0087ff; text-decoration-color: #0087ff\">Dropout</span>)                │ ?                           │     <span style=\"color: #00af00; text-decoration-color: #00af00\">0</span> (unbuilt) │\n",
              "├──────────────────────────────────────┼─────────────────────────────┼─────────────────┤\n",
              "│ layer0 (<span style=\"color: #0087ff; text-decoration-color: #0087ff\">BasicLayer</span>)                  │ ?                           │     <span style=\"color: #00af00; text-decoration-color: #00af00\">0</span> (unbuilt) │\n",
              "├──────────────────────────────────────┼─────────────────────────────┼─────────────────┤\n",
              "│ layer1 (<span style=\"color: #0087ff; text-decoration-color: #0087ff\">BasicLayer</span>)                  │ ?                           │     <span style=\"color: #00af00; text-decoration-color: #00af00\">0</span> (unbuilt) │\n",
              "├──────────────────────────────────────┼─────────────────────────────┼─────────────────┤\n",
              "│ layer2 (<span style=\"color: #0087ff; text-decoration-color: #0087ff\">BasicLayer</span>)                  │ ?                           │     <span style=\"color: #00af00; text-decoration-color: #00af00\">0</span> (unbuilt) │\n",
              "├──────────────────────────────────────┼─────────────────────────────┼─────────────────┤\n",
              "│ layer3 (<span style=\"color: #0087ff; text-decoration-color: #0087ff\">BasicLayer</span>)                  │ ?                           │     <span style=\"color: #00af00; text-decoration-color: #00af00\">0</span> (unbuilt) │\n",
              "├──────────────────────────────────────┼─────────────────────────────┼─────────────────┤\n",
              "│ norm (<span style=\"color: #0087ff; text-decoration-color: #0087ff\">LayerNormalization</span>)            │ ?                           │     <span style=\"color: #00af00; text-decoration-color: #00af00\">0</span> (unbuilt) │\n",
              "├──────────────────────────────────────┼─────────────────────────────┼─────────────────┤\n",
              "│ head (<span style=\"color: #0087ff; text-decoration-color: #0087ff\">Dense</span>)                         │ ?                           │     <span style=\"color: #00af00; text-decoration-color: #00af00\">0</span> (unbuilt) │\n",
              "└──────────────────────────────────────┴─────────────────────────────┴─────────────────┘\n",
              "</pre>\n"
            ]
          },
          "metadata": {}
        },
        {
          "output_type": "display_data",
          "data": {
            "text/plain": [
              "\u001b[1m Total params: \u001b[0m\u001b[38;5;34m0\u001b[0m (0.00 B)\n"
            ],
            "text/html": [
              "<pre style=\"white-space:pre;overflow-x:auto;line-height:normal;font-family:Menlo,'DejaVu Sans Mono',consolas,'Courier New',monospace\"><span style=\"font-weight: bold\"> Total params: </span><span style=\"color: #00af00; text-decoration-color: #00af00\">0</span> (0.00 B)\n",
              "</pre>\n"
            ]
          },
          "metadata": {}
        },
        {
          "output_type": "display_data",
          "data": {
            "text/plain": [
              "\u001b[1m Trainable params: \u001b[0m\u001b[38;5;34m0\u001b[0m (0.00 B)\n"
            ],
            "text/html": [
              "<pre style=\"white-space:pre;overflow-x:auto;line-height:normal;font-family:Menlo,'DejaVu Sans Mono',consolas,'Courier New',monospace\"><span style=\"font-weight: bold\"> Trainable params: </span><span style=\"color: #00af00; text-decoration-color: #00af00\">0</span> (0.00 B)\n",
              "</pre>\n"
            ]
          },
          "metadata": {}
        },
        {
          "output_type": "display_data",
          "data": {
            "text/plain": [
              "\u001b[1m Non-trainable params: \u001b[0m\u001b[38;5;34m0\u001b[0m (0.00 B)\n"
            ],
            "text/html": [
              "<pre style=\"white-space:pre;overflow-x:auto;line-height:normal;font-family:Menlo,'DejaVu Sans Mono',consolas,'Courier New',monospace\"><span style=\"font-weight: bold\"> Non-trainable params: </span><span style=\"color: #00af00; text-decoration-color: #00af00\">0</span> (0.00 B)\n",
              "</pre>\n"
            ]
          },
          "metadata": {}
        }
      ]
    },
    {
      "cell_type": "code",
      "source": [
        "# Cell 6: 定义损失函数、优化器及度量指标\n",
        "loss_object = tf.keras.losses.SparseCategoricalCrossentropy(from_logits=True)\n",
        "optimizer = tf.keras.optimizers.Adam(learning_rate=initial_lr)\n",
        "\n",
        "train_loss = tf.keras.metrics.Mean(name='train_loss')\n",
        "train_accuracy = tf.keras.metrics.SparseCategoricalAccuracy(name='train_accuracy')\n",
        "train_top5 = tf.keras.metrics.SparseTopKCategoricalAccuracy(k=5, name='train_top5_accuracy')\n",
        "\n",
        "val_loss = tf.keras.metrics.Mean(name='val_loss')\n",
        "val_accuracy = tf.keras.metrics.SparseCategoricalAccuracy(name='val_accuracy')\n",
        "val_top5 = tf.keras.metrics.SparseTopKCategoricalAccuracy(k=5, name='val_top5_accuracy')\n",
        "\n",
        "log_dir = \"./logs/\" + datetime.datetime.now().strftime(\"%Y%m%d-%H%M%S\")\n",
        "train_writer = tf.summary.create_file_writer(os.path.join(log_dir, \"train\"))\n",
        "val_writer = tf.summary.create_file_writer(os.path.join(log_dir, \"val\"))\n"
      ],
      "metadata": {
        "id": "LCU6CzptsOt8"
      },
      "execution_count": 39,
      "outputs": []
    },
    {
      "cell_type": "code",
      "source": [
        "# Cell 7: 定义训练与验证步骤\n",
        "@tf.function\n",
        "def train_step(train_images, train_labels):\n",
        "    with tf.GradientTape() as tape:\n",
        "        output = model(train_images, training=True)\n",
        "        ce_loss = loss_object(train_labels, output)\n",
        "        # l2 loss\n",
        "        import re\n",
        "        matcher = re.compile(\".*(bias|gamma|beta).*\")\n",
        "        l2loss = weight_decay * tf.add_n([\n",
        "            tf.nn.l2_loss(v)\n",
        "            for v in model.trainable_variables\n",
        "            if not matcher.match(v.name)\n",
        "        ])\n",
        "        loss = ce_loss + l2loss\n",
        "\n",
        "    gradients = tape.gradient(loss, model.trainable_variables)\n",
        "    optimizer.apply_gradients(zip(gradients, model.trainable_variables))\n",
        "    train_loss(ce_loss)\n",
        "    train_accuracy(train_labels, output)\n",
        "    train_top5(train_labels, output)\n",
        "\n",
        "@tf.function\n",
        "def val_step(val_images, val_labels):\n",
        "    output = model(val_images, training=False)\n",
        "    loss = loss_object(val_labels, output)\n",
        "    val_loss(loss)\n",
        "    val_accuracy(val_labels, output)\n",
        "    val_top5(val_labels, output)\n"
      ],
      "metadata": {
        "id": "5DT85mijsQv4"
      },
      "execution_count": 40,
      "outputs": []
    },
    {
      "cell_type": "code",
      "source": [
        "# Cell 8: 训练主循环\n",
        "best_val_acc = 0.0\n",
        "\n",
        "# 用于绘制曲线的数据列表\n",
        "hist_train_loss = []\n",
        "hist_train_acc = []\n",
        "hist_train_top5 = []\n",
        "hist_val_loss = []\n",
        "hist_val_acc = []\n",
        "hist_val_top5 = []\n",
        "\n",
        "for epoch in range(epochs):\n",
        "    train_loss.reset_state()\n",
        "    train_accuracy.reset_state()\n",
        "    train_top5.reset_state()\n",
        "    val_loss.reset_state()\n",
        "    val_accuracy.reset_state()\n",
        "    val_top5.reset_state()\n",
        "\n",
        "    # train\n",
        "    train_bar = tqdm(train_ds)\n",
        "    for images, labels in train_bar:\n",
        "        train_step(images, labels)\n",
        "        train_bar.desc = \"train epoch[{}/{}] loss:{:.3f}, acc:{:.3f}, top5:{:.3f}\".format(\n",
        "            epoch+1,\n",
        "            epochs,\n",
        "            train_loss.result(),\n",
        "            train_accuracy.result(),\n",
        "            train_top5.result()\n",
        "        )\n",
        "\n",
        "    # validate\n",
        "    val_bar = tqdm(val_ds)\n",
        "    for images, labels in val_bar:\n",
        "        val_step(images, labels)\n",
        "        val_bar.desc = \"valid epoch[{}/{}] loss:{:.3f}, acc:{:.3f}, top5:{:.3f}\".format(\n",
        "            epoch+1,\n",
        "            epochs,\n",
        "            val_loss.result(),\n",
        "            val_accuracy.result(),\n",
        "            val_top5.result()\n",
        "        )\n",
        "\n",
        "    # 写入tensorboard\n",
        "    with train_writer.as_default():\n",
        "        tf.summary.scalar(\"loss\", train_loss.result(), epoch)\n",
        "        tf.summary.scalar(\"accuracy\", train_accuracy.result(), epoch)\n",
        "        tf.summary.scalar(\"top5_accuracy\", train_top5.result(), epoch)\n",
        "\n",
        "    with val_writer.as_default():\n",
        "        tf.summary.scalar(\"loss\", val_loss.result(), epoch)\n",
        "        tf.summary.scalar(\"accuracy\", val_accuracy.result(), epoch)\n",
        "        tf.summary.scalar(\"top5_accuracy\", val_top5.result(), epoch)\n",
        "\n",
        "    # 打印最终信息 (按照指定格式)\n",
        "    print(\"epoch[{}/{}]: loss: {:.4f} - accuracy: {:.4f} - top-5-accuracy: {:.4f} - val_loss: {:.4f} - val_accuracy: {:.4f} - val_top-5-accuracy: {:.4f}\".format(\n",
        "        epoch+1,\n",
        "        epochs,\n",
        "        train_loss.result(),\n",
        "        train_accuracy.result(),\n",
        "        train_top5.result(),\n",
        "        val_loss.result(),\n",
        "        val_accuracy.result(),\n",
        "        val_top5.result()\n",
        "    ))\n",
        "\n",
        "    # 保存训练和验证指标数据\n",
        "    hist_train_loss.append(train_loss.result().numpy())\n",
        "    hist_train_acc.append(train_accuracy.result().numpy())\n",
        "    hist_train_top5.append(train_top5.result().numpy())\n",
        "    hist_val_loss.append(val_loss.result().numpy())\n",
        "    hist_val_acc.append(val_accuracy.result().numpy())\n",
        "    hist_val_top5.append(val_top5.result().numpy())\n",
        "\n",
        "    # 保存最优权重\n",
        "    if val_accuracy.result() > best_val_acc:\n",
        "        best_val_acc = val_accuracy.result()\n",
        "        save_name = './save_weights/model.weights.h5'\n",
        "        model.save_weights(save_name)\n",
        "        print(\"Saved best model weights at epoch {}\".format(epoch+1))\n"
      ],
      "metadata": {
        "colab": {
          "base_uri": "https://localhost:8080/"
        },
        "id": "FUFlVWGasRyr",
        "outputId": "a262052f-7fb8-4fae-d9cd-48c50a74ed4a"
      },
      "execution_count": 41,
      "outputs": [
        {
          "output_type": "stream",
          "name": "stderr",
          "text": [
            "train epoch[1/20] loss:4.231, acc:0.056, top5:0.199: 100%|██████████| 391/391 [03:49<00:00,  1.71it/s]\n",
            "valid epoch[1/20] loss:4.038, acc:0.074, top5:0.247: 100%|██████████| 79/79 [00:16<00:00,  4.79it/s]\n"
          ]
        },
        {
          "output_type": "stream",
          "name": "stdout",
          "text": [
            "epoch[1/20]: loss: 4.2315 - accuracy: 0.0560 - top-5-accuracy: 0.1990 - val_loss: 4.0384 - val_accuracy: 0.0738 - val_top-5-accuracy: 0.2472\n",
            "Saved best model weights at epoch 1\n"
          ]
        },
        {
          "output_type": "stream",
          "name": "stderr",
          "text": [
            "train epoch[2/20] loss:3.903, acc:0.100, top5:0.299: 100%|██████████| 391/391 [03:05<00:00,  2.10it/s]\n",
            "valid epoch[2/20] loss:3.752, acc:0.125, top5:0.350: 100%|██████████| 79/79 [00:11<00:00,  6.77it/s]\n"
          ]
        },
        {
          "output_type": "stream",
          "name": "stdout",
          "text": [
            "epoch[2/20]: loss: 3.9031 - accuracy: 0.0997 - top-5-accuracy: 0.2987 - val_loss: 3.7521 - val_accuracy: 0.1250 - val_top-5-accuracy: 0.3502\n",
            "Saved best model weights at epoch 2\n"
          ]
        },
        {
          "output_type": "stream",
          "name": "stderr",
          "text": [
            "train epoch[3/20] loss:3.644, acc:0.139, top5:0.379: 100%|██████████| 391/391 [03:05<00:00,  2.10it/s]\n",
            "valid epoch[3/20] loss:3.497, acc:0.166, top5:0.424: 100%|██████████| 79/79 [00:11<00:00,  6.74it/s]\n"
          ]
        },
        {
          "output_type": "stream",
          "name": "stdout",
          "text": [
            "epoch[3/20]: loss: 3.6443 - accuracy: 0.1388 - top-5-accuracy: 0.3792 - val_loss: 3.4965 - val_accuracy: 0.1662 - val_top-5-accuracy: 0.4240\n",
            "Saved best model weights at epoch 3\n"
          ]
        },
        {
          "output_type": "stream",
          "name": "stderr",
          "text": [
            "train epoch[4/20] loss:3.463, acc:0.172, top5:0.430: 100%|██████████| 391/391 [03:05<00:00,  2.11it/s]\n",
            "valid epoch[4/20] loss:3.361, acc:0.190, top5:0.463: 100%|██████████| 79/79 [00:11<00:00,  6.76it/s]\n"
          ]
        },
        {
          "output_type": "stream",
          "name": "stdout",
          "text": [
            "epoch[4/20]: loss: 3.4632 - accuracy: 0.1723 - top-5-accuracy: 0.4301 - val_loss: 3.3613 - val_accuracy: 0.1900 - val_top-5-accuracy: 0.4631\n",
            "Saved best model weights at epoch 4\n"
          ]
        },
        {
          "output_type": "stream",
          "name": "stderr",
          "text": [
            "train epoch[5/20] loss:3.293, acc:0.199, top5:0.476: 100%|██████████| 391/391 [03:05<00:00,  2.10it/s]\n",
            "valid epoch[5/20] loss:3.196, acc:0.219, top5:0.503: 100%|██████████| 79/79 [00:11<00:00,  6.75it/s]\n"
          ]
        },
        {
          "output_type": "stream",
          "name": "stdout",
          "text": [
            "epoch[5/20]: loss: 3.2933 - accuracy: 0.1991 - top-5-accuracy: 0.4760 - val_loss: 3.1957 - val_accuracy: 0.2185 - val_top-5-accuracy: 0.5033\n",
            "Saved best model weights at epoch 5\n"
          ]
        },
        {
          "output_type": "stream",
          "name": "stderr",
          "text": [
            "train epoch[6/20] loss:3.121, acc:0.229, top5:0.520: 100%|██████████| 391/391 [03:05<00:00,  2.10it/s]\n",
            "valid epoch[6/20] loss:3.011, acc:0.256, top5:0.550: 100%|██████████| 79/79 [00:11<00:00,  6.74it/s]\n"
          ]
        },
        {
          "output_type": "stream",
          "name": "stdout",
          "text": [
            "epoch[6/20]: loss: 3.1211 - accuracy: 0.2291 - top-5-accuracy: 0.5201 - val_loss: 3.0109 - val_accuracy: 0.2559 - val_top-5-accuracy: 0.5497\n",
            "Saved best model weights at epoch 6\n"
          ]
        },
        {
          "output_type": "stream",
          "name": "stderr",
          "text": [
            "train epoch[7/20] loss:2.999, acc:0.254, top5:0.553: 100%|██████████| 391/391 [03:05<00:00,  2.10it/s]\n",
            "valid epoch[7/20] loss:2.954, acc:0.269, top5:0.561: 100%|██████████| 79/79 [00:11<00:00,  6.79it/s]\n"
          ]
        },
        {
          "output_type": "stream",
          "name": "stdout",
          "text": [
            "epoch[7/20]: loss: 2.9987 - accuracy: 0.2539 - top-5-accuracy: 0.5531 - val_loss: 2.9541 - val_accuracy: 0.2695 - val_top-5-accuracy: 0.5613\n",
            "Saved best model weights at epoch 7\n"
          ]
        },
        {
          "output_type": "stream",
          "name": "stderr",
          "text": [
            "train epoch[8/20] loss:2.885, acc:0.275, top5:0.581: 100%|██████████| 391/391 [03:06<00:00,  2.10it/s]\n",
            "valid epoch[8/20] loss:2.882, acc:0.280, top5:0.585: 100%|██████████| 79/79 [00:11<00:00,  6.78it/s]\n"
          ]
        },
        {
          "output_type": "stream",
          "name": "stdout",
          "text": [
            "epoch[8/20]: loss: 2.8848 - accuracy: 0.2745 - top-5-accuracy: 0.5812 - val_loss: 2.8820 - val_accuracy: 0.2801 - val_top-5-accuracy: 0.5854\n",
            "Saved best model weights at epoch 8\n"
          ]
        },
        {
          "output_type": "stream",
          "name": "stderr",
          "text": [
            "train epoch[9/20] loss:2.843, acc:0.282, top5:0.589: 100%|██████████| 391/391 [03:05<00:00,  2.10it/s]\n",
            "valid epoch[9/20] loss:2.858, acc:0.279, top5:0.584: 100%|██████████| 79/79 [00:11<00:00,  6.75it/s]\n"
          ]
        },
        {
          "output_type": "stream",
          "name": "stdout",
          "text": [
            "epoch[9/20]: loss: 2.8429 - accuracy: 0.2822 - top-5-accuracy: 0.5892 - val_loss: 2.8577 - val_accuracy: 0.2788 - val_top-5-accuracy: 0.5840\n"
          ]
        },
        {
          "output_type": "stream",
          "name": "stderr",
          "text": [
            "train epoch[10/20] loss:2.842, acc:0.285, top5:0.589: 100%|██████████| 391/391 [03:06<00:00,  2.10it/s]\n",
            "valid epoch[10/20] loss:2.802, acc:0.296, top5:0.600: 100%|██████████| 79/79 [00:11<00:00,  6.76it/s]\n"
          ]
        },
        {
          "output_type": "stream",
          "name": "stdout",
          "text": [
            "epoch[10/20]: loss: 2.8418 - accuracy: 0.2852 - top-5-accuracy: 0.5886 - val_loss: 2.8017 - val_accuracy: 0.2956 - val_top-5-accuracy: 0.6005\n",
            "Saved best model weights at epoch 10\n"
          ]
        },
        {
          "output_type": "stream",
          "name": "stderr",
          "text": [
            "train epoch[11/20] loss:2.735, acc:0.305, top5:0.619: 100%|██████████| 391/391 [03:05<00:00,  2.10it/s]\n",
            "valid epoch[11/20] loss:2.685, acc:0.321, top5:0.625: 100%|██████████| 79/79 [00:11<00:00,  6.73it/s]\n"
          ]
        },
        {
          "output_type": "stream",
          "name": "stdout",
          "text": [
            "epoch[11/20]: loss: 2.7354 - accuracy: 0.3054 - top-5-accuracy: 0.6191 - val_loss: 2.6851 - val_accuracy: 0.3213 - val_top-5-accuracy: 0.6248\n",
            "Saved best model weights at epoch 11\n"
          ]
        },
        {
          "output_type": "stream",
          "name": "stderr",
          "text": [
            "train epoch[12/20] loss:2.601, acc:0.332, top5:0.648: 100%|██████████| 391/391 [03:05<00:00,  2.10it/s]\n",
            "valid epoch[12/20] loss:2.657, acc:0.325, top5:0.634: 100%|██████████| 79/79 [00:11<00:00,  6.78it/s]\n"
          ]
        },
        {
          "output_type": "stream",
          "name": "stdout",
          "text": [
            "epoch[12/20]: loss: 2.6013 - accuracy: 0.3320 - top-5-accuracy: 0.6479 - val_loss: 2.6571 - val_accuracy: 0.3251 - val_top-5-accuracy: 0.6344\n",
            "Saved best model weights at epoch 12\n"
          ]
        },
        {
          "output_type": "stream",
          "name": "stderr",
          "text": [
            "train epoch[13/20] loss:2.535, acc:0.349, top5:0.661: 100%|██████████| 391/391 [03:05<00:00,  2.11it/s]\n",
            "valid epoch[13/20] loss:2.578, acc:0.337, top5:0.645: 100%|██████████| 79/79 [00:11<00:00,  6.77it/s]\n"
          ]
        },
        {
          "output_type": "stream",
          "name": "stdout",
          "text": [
            "epoch[13/20]: loss: 2.5347 - accuracy: 0.3491 - top-5-accuracy: 0.6613 - val_loss: 2.5784 - val_accuracy: 0.3373 - val_top-5-accuracy: 0.6448\n",
            "Saved best model weights at epoch 13\n"
          ]
        },
        {
          "output_type": "stream",
          "name": "stderr",
          "text": [
            "train epoch[14/20] loss:2.467, acc:0.358, top5:0.678: 100%|██████████| 391/391 [03:05<00:00,  2.11it/s]\n",
            "valid epoch[14/20] loss:2.592, acc:0.343, top5:0.647: 100%|██████████| 79/79 [00:11<00:00,  6.73it/s]\n"
          ]
        },
        {
          "output_type": "stream",
          "name": "stdout",
          "text": [
            "epoch[14/20]: loss: 2.4668 - accuracy: 0.3581 - top-5-accuracy: 0.6778 - val_loss: 2.5921 - val_accuracy: 0.3428 - val_top-5-accuracy: 0.6474\n",
            "Saved best model weights at epoch 14\n"
          ]
        },
        {
          "output_type": "stream",
          "name": "stderr",
          "text": [
            "train epoch[15/20] loss:2.465, acc:0.363, top5:0.677: 100%|██████████| 391/391 [03:05<00:00,  2.11it/s]\n",
            "valid epoch[15/20] loss:2.561, acc:0.351, top5:0.657: 100%|██████████| 79/79 [00:11<00:00,  6.76it/s]\n"
          ]
        },
        {
          "output_type": "stream",
          "name": "stdout",
          "text": [
            "epoch[15/20]: loss: 2.4650 - accuracy: 0.3627 - top-5-accuracy: 0.6772 - val_loss: 2.5609 - val_accuracy: 0.3511 - val_top-5-accuracy: 0.6573\n",
            "Saved best model weights at epoch 15\n"
          ]
        },
        {
          "output_type": "stream",
          "name": "stderr",
          "text": [
            "train epoch[16/20] loss:2.422, acc:0.367, top5:0.686: 100%|██████████| 391/391 [03:06<00:00,  2.10it/s]\n",
            "valid epoch[16/20] loss:2.456, acc:0.364, top5:0.680: 100%|██████████| 79/79 [00:11<00:00,  6.80it/s]\n"
          ]
        },
        {
          "output_type": "stream",
          "name": "stdout",
          "text": [
            "epoch[16/20]: loss: 2.4222 - accuracy: 0.3673 - top-5-accuracy: 0.6864 - val_loss: 2.4559 - val_accuracy: 0.3643 - val_top-5-accuracy: 0.6801\n",
            "Saved best model weights at epoch 16\n"
          ]
        },
        {
          "output_type": "stream",
          "name": "stderr",
          "text": [
            "train epoch[17/20] loss:2.288, acc:0.398, top5:0.715: 100%|██████████| 391/391 [03:05<00:00,  2.10it/s]\n",
            "valid epoch[17/20] loss:2.450, acc:0.371, top5:0.684: 100%|██████████| 79/79 [00:11<00:00,  6.79it/s]\n"
          ]
        },
        {
          "output_type": "stream",
          "name": "stdout",
          "text": [
            "epoch[17/20]: loss: 2.2882 - accuracy: 0.3979 - top-5-accuracy: 0.7147 - val_loss: 2.4498 - val_accuracy: 0.3710 - val_top-5-accuracy: 0.6845\n",
            "Saved best model weights at epoch 17\n"
          ]
        },
        {
          "output_type": "stream",
          "name": "stderr",
          "text": [
            "train epoch[18/20] loss:2.225, acc:0.412, top5:0.729: 100%|██████████| 391/391 [03:05<00:00,  2.11it/s]\n",
            "valid epoch[18/20] loss:2.382, acc:0.390, top5:0.701: 100%|██████████| 79/79 [00:11<00:00,  6.78it/s]\n"
          ]
        },
        {
          "output_type": "stream",
          "name": "stdout",
          "text": [
            "epoch[18/20]: loss: 2.2247 - accuracy: 0.4122 - top-5-accuracy: 0.7293 - val_loss: 2.3821 - val_accuracy: 0.3904 - val_top-5-accuracy: 0.7012\n",
            "Saved best model weights at epoch 18\n"
          ]
        },
        {
          "output_type": "stream",
          "name": "stderr",
          "text": [
            "train epoch[19/20] loss:2.148, acc:0.426, top5:0.743: 100%|██████████| 391/391 [03:05<00:00,  2.10it/s]\n",
            "valid epoch[19/20] loss:2.352, acc:0.393, top5:0.703: 100%|██████████| 79/79 [00:11<00:00,  6.77it/s]\n"
          ]
        },
        {
          "output_type": "stream",
          "name": "stdout",
          "text": [
            "epoch[19/20]: loss: 2.1480 - accuracy: 0.4265 - top-5-accuracy: 0.7432 - val_loss: 2.3518 - val_accuracy: 0.3928 - val_top-5-accuracy: 0.7033\n",
            "Saved best model weights at epoch 19\n"
          ]
        },
        {
          "output_type": "stream",
          "name": "stderr",
          "text": [
            "train epoch[20/20] loss:2.104, acc:0.437, top5:0.753: 100%|██████████| 391/391 [03:05<00:00,  2.10it/s]\n",
            "valid epoch[20/20] loss:2.312, acc:0.410, top5:0.714: 100%|██████████| 79/79 [00:11<00:00,  6.76it/s]\n"
          ]
        },
        {
          "output_type": "stream",
          "name": "stdout",
          "text": [
            "epoch[20/20]: loss: 2.1042 - accuracy: 0.4367 - top-5-accuracy: 0.7526 - val_loss: 2.3125 - val_accuracy: 0.4102 - val_top-5-accuracy: 0.7142\n",
            "Saved best model weights at epoch 20\n"
          ]
        }
      ]
    },
    {
      "cell_type": "code",
      "source": [
        "# Cell 9: 绘制训练过程曲线\n",
        "fig, axes = plt.subplots(2, 2, figsize=(12, 10))\n",
        "\n",
        "# Loss 曲线\n",
        "axes[0, 0].plot(hist_train_loss, label='train_loss')\n",
        "axes[0, 0].plot(hist_val_loss, label='val_loss')\n",
        "axes[0, 0].legend()\n",
        "axes[0, 0].set_title(\"Loss\")\n",
        "axes[0, 0].set_xlabel(\"Epoch\")\n",
        "axes[0, 0].set_ylabel(\"Loss\")\n",
        "\n",
        "# Accuracy 曲线\n",
        "axes[0, 1].plot(hist_train_acc, label='train_accuracy')\n",
        "axes[0, 1].plot(hist_val_acc, label='val_accuracy')\n",
        "axes[0, 1].legend()\n",
        "axes[0, 1].set_title(\"Accuracy\")\n",
        "axes[0, 1].set_xlabel(\"Epoch\")\n",
        "axes[0, 1].set_ylabel(\"Accuracy\")\n",
        "\n",
        "# Top-5 Accuracy 曲线\n",
        "axes[1, 0].plot(hist_train_top5, label='train_top5_acc')\n",
        "axes[1, 0].plot(hist_val_top5, label='val_top5_acc')\n",
        "axes[1, 0].legend()\n",
        "axes[1, 0].set_title(\"Top-5 Accuracy\")\n",
        "axes[1, 0].set_xlabel(\"Epoch\")\n",
        "axes[1, 0].set_ylabel(\"Top-5 Accuracy\")\n",
        "\n",
        "# 空一格以备扩展\n",
        "axes[1, 1].axis('off')\n",
        "\n",
        "plt.tight_layout()\n",
        "plt.show()\n"
      ],
      "metadata": {
        "colab": {
          "base_uri": "https://localhost:8080/",
          "height": 860
        },
        "id": "ZH5kxdCxsS9d",
        "outputId": "d1190f59-2a11-411a-984c-2b94f8e5dbf4"
      },
      "execution_count": 42,
      "outputs": [
        {
          "output_type": "display_data",
          "data": {
            "text/plain": [
              "<Figure size 1200x1000 with 4 Axes>"
            ],
            "image/png": "[encoded data removed]"
          },
          "metadata": {}
        }
      ]
    },
    {
      "cell_type": "code",
      "source": [
        "import tensorflow as tf\n",
        "from tensorflow.keras import Model, layers, initializers\n",
        "import numpy as np\n",
        "\n",
        "# ------------------ Swin Transformer 核心组件 ------------------ #\n",
        "class PatchEmbed(layers.Layer):\n",
        "    \"\"\"\n",
        "    2D Image to Patch Embedding\n",
        "    \"\"\"\n",
        "    def __init__(self, patch_size=4, embed_dim=96, norm_layer=None, name=None, **kwargs):\n",
        "        super(PatchEmbed, self).__init__(name=name, **kwargs)\n",
        "        self.embed_dim = embed_dim\n",
        "        self.patch_size = (patch_size, patch_size)\n",
        "        self.norm = norm_layer(epsilon=1e-6, name=\"norm\") if norm_layer else layers.Activation('linear')\n",
        "        self.proj = layers.Conv2D(filters=embed_dim, kernel_size=patch_size,\n",
        "                                  strides=patch_size, padding='SAME',\n",
        "                                  kernel_initializer=initializers.LecunNormal(),\n",
        "                                  bias_initializer=initializers.Zeros(),\n",
        "                                  name=\"proj\")\n",
        "\n",
        "    def call(self, x, **kwargs):\n",
        "        # x: [B, H, W, C_in]\n",
        "        B = tf.shape(x)[0]\n",
        "        H = tf.shape(x)[1]\n",
        "        W = tf.shape(x)[2]\n",
        "        # C_in = x.shape[3] 可以不显式用C_in，而是直接使用投影后的C\n",
        "        x = self.proj(x)  # [B, H/patch_size, W/patch_size, C]\n",
        "        C = tf.shape(x)[3]\n",
        "        # reshape to [B, H'*W', C]\n",
        "        x = tf.reshape(x, [B, -1, C])\n",
        "        x = self.norm(x)\n",
        "        return x, H, W\n",
        "\n",
        "\n",
        "def window_partition(x, window_size: int):\n",
        "    # 使用 tf.shape(x) 获取动态形状\n",
        "    shape = tf.shape(x)\n",
        "    B = shape[0]\n",
        "    H = shape[1]\n",
        "    W = shape[2]\n",
        "    C = shape[3]\n",
        "\n",
        "    # 保证所有的维度计算使用tensor操作，不出现None\n",
        "    # H // window_size 和 W // window_size 可以使用 tf.math.floordiv\n",
        "    # 注意：H和W是tensor，需要使用tf.math.floordiv进行整除\n",
        "    h_div = tf.math.floordiv(H, window_size)\n",
        "    w_div = tf.math.floordiv(W, window_size)\n",
        "\n",
        "    x = tf.reshape(x, [B, h_div, window_size, w_div, window_size, C])\n",
        "    x = tf.transpose(x, [0, 1, 3, 2, 4, 5])\n",
        "    windows = tf.reshape(x, [B * h_div * w_div, window_size, window_size, C])\n",
        "    return windows\n",
        "\n",
        "\n",
        "def window_reverse(windows, window_size: int, H: tf.Tensor, W: tf.Tensor):\n",
        "    num_windows_H = tf.math.floordiv(H, window_size)\n",
        "    num_windows_W = tf.math.floordiv(W, window_size)\n",
        "    num_windows = num_windows_H * num_windows_W\n",
        "\n",
        "    B = tf.math.floordiv(tf.shape(windows)[0], num_windows)\n",
        "    x = tf.reshape(windows, [B, num_windows_H, num_windows_W, window_size, window_size, -1])\n",
        "    x = tf.transpose(x, [0, 1, 3, 2, 4, 5])\n",
        "    x = tf.reshape(x, [B, H, W, -1])\n",
        "    return x\n",
        "\n",
        "class PatchMerging(layers.Layer):\n",
        "    def __init__(self, dim: int, norm_layer=layers.LayerNormalization, name=None, **kwargs):\n",
        "        super(PatchMerging, self).__init__(name=name, **kwargs)\n",
        "        self.dim = dim\n",
        "        self.reduction = layers.Dense(\n",
        "            2 * dim,\n",
        "            use_bias=False,\n",
        "            kernel_initializer=initializers.TruncatedNormal(stddev=0.02),\n",
        "            name=\"reduction\"\n",
        "        )\n",
        "        self.norm = norm_layer(epsilon=1e-6, name=\"norm\")\n",
        "\n",
        "    def call(self, x, H, W):\n",
        "        # Retrieve dynamic shape\n",
        "        shape = tf.shape(x)\n",
        "        B = shape[0]\n",
        "        L = shape[1]\n",
        "        C = shape[2]\n",
        "\n",
        "        # Assert that L == H * W\n",
        "        tf.debugging.assert_equal(\n",
        "            L,\n",
        "            H * W,\n",
        "            message=\"input feature has wrong size\"\n",
        "        )\n",
        "\n",
        "        # Reshape to [B, H, W, C]\n",
        "        x = tf.reshape(x, [B, H, W, C])\n",
        "\n",
        "        # Check if H and W are divisible by 2\n",
        "        pad_h = tf.math.mod(H, 2)\n",
        "        pad_w = tf.math.mod(W, 2)\n",
        "        pad_input = tf.logical_or(tf.not_equal(pad_h, 0), tf.not_equal(pad_w, 0))\n",
        "\n",
        "        # Define paddings\n",
        "        paddings = tf.constant([[0, 0],\n",
        "                                [0, 1],\n",
        "                                [0, 1],\n",
        "                                [0, 0]])\n",
        "\n",
        "        # Conditionally pad the input\n",
        "        x = tf.cond(\n",
        "            pad_input,\n",
        "            lambda: tf.pad(x, paddings),\n",
        "            lambda: x\n",
        "        )\n",
        "\n",
        "        # Perform patch merging\n",
        "        x0 = x[:, 0::2, 0::2, :]  # [B, H//2, W//2, C]\n",
        "        x1 = x[:, 1::2, 0::2, :]  # [B, H//2, W//2, C]\n",
        "        x2 = x[:, 0::2, 1::2, :]  # [B, H//2, W//2, C]\n",
        "        x3 = x[:, 1::2, 1::2, :]  # [B, H//2, W//2, C]\n",
        "        x = tf.concat([x0, x1, x2, x3], axis=-1)  # [B, H//2, W//2, 4*C]\n",
        "\n",
        "        # Calculate new H and W after merging\n",
        "        new_H = tf.math.floordiv(H + pad_h, 2)\n",
        "        new_W = tf.math.floordiv(W + pad_w, 2)\n",
        "\n",
        "        # Reshape to [B, new_H * new_W, 4*C]\n",
        "        x = tf.reshape(x, [B, new_H * new_W, 4 * C])\n",
        "\n",
        "        # Apply normalization and reduction\n",
        "        x = self.norm(x)\n",
        "        x = self.reduction(x)\n",
        "        return x\n",
        "\n",
        "\n",
        "class MLP(layers.Layer):\n",
        "    k_ini = initializers.TruncatedNormal(stddev=0.02)\n",
        "    b_ini = initializers.Zeros()\n",
        "    def __init__(self, in_features, mlp_ratio=4.0, drop=0., name=None):\n",
        "        super(MLP, self).__init__(name=name)\n",
        "        self.fc1 = layers.Dense(int(in_features * mlp_ratio), name=\"fc1\",\n",
        "                                kernel_initializer=self.k_ini, bias_initializer=self.b_ini)\n",
        "        self.act = layers.Activation(\"gelu\")\n",
        "        self.fc2 = layers.Dense(in_features, name=\"fc2\",\n",
        "                                kernel_initializer=self.k_ini, bias_initializer=self.b_ini)\n",
        "        self.drop = layers.Dropout(drop)\n",
        "\n",
        "    def call(self, x, training=None):\n",
        "        x = self.fc1(x)\n",
        "        x = self.act(x)\n",
        "        x = self.drop(x, training=training)\n",
        "        x = self.fc2(x)\n",
        "        x = self.drop(x, training=training)\n",
        "        return x\n",
        "\n",
        "class WindowAttention(layers.Layer):\n",
        "    k_ini = initializers.GlorotUniform()\n",
        "    b_ini = initializers.Zeros()\n",
        "    def __init__(self,\n",
        "                 dim,\n",
        "                 window_size,\n",
        "                 num_heads=8,\n",
        "                 qkv_bias=False,\n",
        "                 attn_drop_ratio=0.,\n",
        "                 proj_drop_ratio=0.,\n",
        "                 name=None):\n",
        "        super(WindowAttention, self).__init__(name=name)\n",
        "        self.dim = dim\n",
        "        self.window_size = window_size\n",
        "        self.num_heads = num_heads\n",
        "        head_dim = dim // num_heads\n",
        "        self.scale = head_dim ** -0.5\n",
        "        self.qkv = layers.Dense(dim * 3, use_bias=qkv_bias, name=\"qkv\",\n",
        "                                kernel_initializer=self.k_ini, bias_initializer=self.b_ini)\n",
        "        self.attn_drop = layers.Dropout(attn_drop_ratio)\n",
        "        self.proj = layers.Dense(dim, name=\"proj\",\n",
        "                                 kernel_initializer=self.k_ini, bias_initializer=self.b_ini)\n",
        "        self.proj_drop = layers.Dropout(proj_drop_ratio)\n",
        "\n",
        "    def build(self, input_shape):\n",
        "        self.relative_position_bias_table = self.add_weight(\n",
        "            shape=[(2 * self.window_size[0] - 1) * (2 * self.window_size[1] - 1), self.num_heads],\n",
        "            initializer=initializers.TruncatedNormal(stddev=0.02),\n",
        "            trainable=True,\n",
        "            dtype=tf.float32,\n",
        "            name=\"relative_position_bias_table\"\n",
        "        )\n",
        "        coords_h = np.arange(self.window_size[0])\n",
        "        coords_w = np.arange(self.window_size[1])\n",
        "        coords = np.stack(np.meshgrid(coords_h, coords_w, indexing=\"ij\"))\n",
        "        coords_flatten = np.reshape(coords, [2, -1])\n",
        "        relative_coords = coords_flatten[:, :, None] - coords_flatten[:, None, :]\n",
        "        relative_coords = np.transpose(relative_coords, [1, 2, 0])\n",
        "        relative_coords[:, :, 0] += self.window_size[0] - 1\n",
        "        relative_coords[:, :, 1] += self.window_size[1] - 1\n",
        "        relative_coords[:, :, 0] *= 2 * self.window_size[1] - 1\n",
        "        relative_position_index = relative_coords.sum(-1)\n",
        "        self.relative_position_index = tf.Variable(tf.convert_to_tensor(relative_position_index),\n",
        "                                                   trainable=False,\n",
        "                                                   dtype=tf.int64,\n",
        "                                                   name=\"relative_position_index\")\n",
        "\n",
        "    def call(self, x, mask=None, training=None):\n",
        "        # x: [B_, N, C]\n",
        "        B_ = tf.shape(x)[0]\n",
        "        N = tf.shape(x)[1]\n",
        "        C = tf.shape(x)[2]\n",
        "\n",
        "        # compute qkv\n",
        "        qkv = self.qkv(x)  # [B_, N, 3*C]\n",
        "        head_dim = C // self.num_heads\n",
        "\n",
        "        # reshape qkv to [B_, N, 3, num_heads, head_dim]\n",
        "        qkv = tf.reshape(qkv, [B_, N, 3, self.num_heads, head_dim])\n",
        "        # permute to [B_, 3, num_heads, N, head_dim]\n",
        "        qkv = tf.transpose(qkv, [0, 2, 3, 1, 4])\n",
        "        # now qkv: [B_, 3, num_heads, N, head_dim]\n",
        "        # split q,k,v\n",
        "        q, k, v = tf.unstack(qkv, axis=1)\n",
        "        # q, k, v: [B_, num_heads, N, head_dim]\n",
        "\n",
        "        # compute attention\n",
        "        attn = tf.matmul(q, k, transpose_b=True) * self.scale\n",
        "        # attn: [B_, num_heads, N, N]\n",
        "\n",
        "        # relative_position_bias_table -> relative_position_bias\n",
        "        relative_position_bias = tf.gather(self.relative_position_bias_table,\n",
        "                                          tf.reshape(self.relative_position_index, [-1]))\n",
        "        relative_position_bias = tf.reshape(relative_position_bias,\n",
        "                                            [self.window_size[0]*self.window_size[1],\n",
        "                                            self.window_size[0]*self.window_size[1],\n",
        "                                            -1])\n",
        "        # shape: [N, N, num_heads]\n",
        "        relative_position_bias = tf.transpose(relative_position_bias, [2, 0, 1])\n",
        "        # shape: [num_heads, N, N]\n",
        "\n",
        "        # expand dims for broadcasting\n",
        "        relative_position_bias = tf.expand_dims(relative_position_bias, axis=0)\n",
        "        # shape: [1, num_heads, N, N]\n",
        "\n",
        "        attn = attn + relative_position_bias  # shape compatible broadcast\n",
        "\n",
        "        if mask is not None:\n",
        "            nW = tf.shape(mask)[0]\n",
        "            # reshape attn to [B_/nW, nW, num_heads, N, N], add mask, reshape back\n",
        "            attn = tf.reshape(attn, [B_//nW, nW, self.num_heads, N, N])\n",
        "            attn = attn + tf.expand_dims(tf.expand_dims(mask, 1), 0)\n",
        "            attn = tf.reshape(attn, [B_, self.num_heads, N, N])\n",
        "\n",
        "        attn = tf.nn.softmax(attn, axis=-1)\n",
        "        attn = self.attn_drop(attn, training=training)\n",
        "\n",
        "        x = tf.matmul(attn, v)  # [B_, num_heads, N, head_dim]\n",
        "        x = tf.transpose(x, [0, 2, 1, 3])  # [B_, N, num_heads, head_dim]\n",
        "        x = tf.reshape(x, [B_, N, C])  # [B_, N, C]\n",
        "\n",
        "        x = self.proj(x)\n",
        "        x = self.proj_drop(x, training=training)\n",
        "        return x\n",
        "\n",
        "\n",
        "class SwinTransformerBlock(layers.Layer):\n",
        "    def __init__(self,\n",
        "                 dim,\n",
        "                 num_heads,\n",
        "                 window_size=4,\n",
        "                 shift_size=0,\n",
        "                 mlp_ratio=4.,\n",
        "                 qkv_bias=True,\n",
        "                 drop=0.,\n",
        "                 attn_drop=0.,\n",
        "                 drop_path=0.,\n",
        "                 name=None,\n",
        "                 **kwargs):  # Accept additional keyword arguments\n",
        "        super().__init__(name=name, **kwargs)  # Pass them to the base Layer\n",
        "        self.dim = dim\n",
        "        self.num_heads = num_heads\n",
        "        self.window_size = window_size\n",
        "        self.shift_size = shift_size\n",
        "        self.mlp_ratio = mlp_ratio\n",
        "        assert 0 <= self.shift_size < self.window_size\n",
        "\n",
        "        self.norm1 = layers.LayerNormalization(epsilon=1e-6, name=\"norm1\")\n",
        "        self.attn = WindowAttention(dim,\n",
        "                                    window_size=(window_size, window_size),\n",
        "                                    num_heads=num_heads,\n",
        "                                    qkv_bias=qkv_bias,\n",
        "                                    attn_drop_ratio=attn_drop,\n",
        "                                    proj_drop_ratio=drop,\n",
        "                                    name=\"attn\")\n",
        "        self.drop_path = layers.Dropout(rate=drop_path, noise_shape=(None, 1, 1)) if drop_path > 0. else layers.Activation(\"linear\")\n",
        "        self.norm2 = layers.LayerNormalization(epsilon=1e-6, name=\"norm2\")\n",
        "        self.mlp = MLP(dim, drop=drop, name=\"mlp\")\n",
        "\n",
        "    def call(self, x, attn_mask, training=None):\n",
        "        B = tf.shape(x)[0]\n",
        "        L = tf.shape(x)[1]\n",
        "        C = tf.shape(x)[2]\n",
        "\n",
        "        H = tf.cast(self.H, tf.int32)\n",
        "        W = tf.cast(self.W, tf.int32)\n",
        "\n",
        "        x = self.norm1(x)\n",
        "        x = tf.reshape(x, [B, H, W, C])\n",
        "\n",
        "        pad_r = (self.window_size - (W % self.window_size)) % self.window_size\n",
        "        pad_b = (self.window_size - (H % self.window_size)) % self.window_size\n",
        "\n",
        "        paddings = tf.stack([[0,0],[0,pad_b],[0,pad_r],[0,0]])\n",
        "        x = tf.pad(x, paddings)\n",
        "\n",
        "        Hp = tf.shape(x)[1]\n",
        "        Wp = tf.shape(x)[2]\n",
        "\n",
        "        if self.shift_size > 0:\n",
        "            shifted_x = tf.roll(x, shift=(-self.shift_size, -self.shift_size), axis=(1, 2))\n",
        "        else:\n",
        "            shifted_x = x\n",
        "            attn_mask = None\n",
        "\n",
        "        x_windows = window_partition(shifted_x, self.window_size)\n",
        "        x_windows = tf.reshape(x_windows, [-1, self.window_size * self.window_size, C])\n",
        "\n",
        "        attn_windows = self.attn(x_windows, mask=attn_mask, training=training)\n",
        "        attn_windows = tf.reshape(attn_windows, [-1, self.window_size, self.window_size, C])\n",
        "\n",
        "        shifted_x = window_reverse(attn_windows, self.window_size, Hp, Wp)\n",
        "\n",
        "        if self.shift_size > 0:\n",
        "            x = tf.roll(shifted_x, shift=(self.shift_size, self.shift_size), axis=(1,2))\n",
        "        else:\n",
        "            x = shifted_x\n",
        "\n",
        "        # Use tf.slice for dynamic slicing\n",
        "        x = tf.slice(x, [0, 0, 0, 0], [B, H, W, -1])\n",
        "\n",
        "        x = tf.reshape(x, [B, H * W, C])\n",
        "        shortcut = x\n",
        "\n",
        "        x = shortcut + self.drop_path(x, training=training)\n",
        "        x = x + self.drop_path(self.mlp(self.norm2(x), training=training), training=training)\n",
        "        return x\n",
        "class BasicLayer(layers.Layer):\n",
        "    def __init__(self,\n",
        "                 dim,\n",
        "                 depth,\n",
        "                 num_heads,\n",
        "                 window_size,\n",
        "                 mlp_ratio=4.,\n",
        "                 qkv_bias=True,\n",
        "                 drop=0.,\n",
        "                 attn_drop=0.,\n",
        "                 drop_path=0.,\n",
        "                 downsample=None,\n",
        "                 name=None,\n",
        "                 **kwargs):  # Accept additional keyword arguments\n",
        "        super().__init__(name=name, **kwargs)  # Pass them to the base Layer\n",
        "        self.dim = dim\n",
        "        self.depth = depth\n",
        "        self.window_size = window_size\n",
        "        self.shift_size = window_size // 2\n",
        "        self.blocks = [\n",
        "            SwinTransformerBlock(dim=dim,\n",
        "                                 num_heads=num_heads,\n",
        "                                 window_size=window_size,\n",
        "                                 shift_size=0 if (i % 2 == 0) else self.shift_size,\n",
        "                                 mlp_ratio=mlp_ratio,\n",
        "                                 qkv_bias=qkv_bias,\n",
        "                                 drop=drop,\n",
        "                                 attn_drop=attn_drop,\n",
        "                                 drop_path=drop_path[i] if isinstance(drop_path, list) else drop_path,\n",
        "                                 name=f\"block{i}\")\n",
        "            for i in range(depth)\n",
        "        ]\n",
        "        if downsample is not None:\n",
        "            self.downsample = downsample(dim=dim, name=\"downsample\")\n",
        "        else:\n",
        "            self.downsample = None\n",
        "\n",
        "    def create_mask(self, H, W):\n",
        "        window_size = self.window_size\n",
        "        # 计算Hp, Wp逻辑不变...\n",
        "        Hp = tf.cast(tf.math.ceil(tf.cast(H, tf.float32) / window_size), tf.int32) * window_size\n",
        "        Wp = tf.cast(tf.math.ceil(tf.cast(W, tf.float32) / window_size), tf.int32) * window_size\n",
        "\n",
        "        shift_size = self.shift_size\n",
        "        h1 = Hp - window_size\n",
        "        h2 = Hp - shift_size\n",
        "        w1 = Wp - window_size\n",
        "        w2 = Wp - shift_size\n",
        "\n",
        "        h_coords = tf.range(Hp)\n",
        "        w_coords = tf.range(Wp)\n",
        "        H_grid, W_grid = tf.meshgrid(h_coords, w_coords, indexing='ij')  # [Hp, Wp]\n",
        "\n",
        "        h_block = tf.where(H_grid < h1, 0, tf.where(H_grid < h2, 1, 2))\n",
        "        w_block = tf.where(W_grid < w1, 0, tf.where(W_grid < w2, 1, 2))\n",
        "\n",
        "        img_mask = 3 * h_block + w_block\n",
        "        img_mask = tf.expand_dims(img_mask, axis=0)\n",
        "        img_mask = tf.expand_dims(img_mask, axis=-1)\n",
        "\n",
        "        mask_windows = window_partition(img_mask, window_size)  # [nW, window_size, window_size, 1]\n",
        "        mask_windows = tf.reshape(mask_windows, [-1, window_size * window_size])\n",
        "        # 将mask_windows转为float类型，以便后续使用float值填入\n",
        "        mask_windows = tf.cast(mask_windows, tf.float32)\n",
        "\n",
        "        attn_mask = tf.expand_dims(mask_windows, 1) - tf.expand_dims(mask_windows, 2)\n",
        "        # 使用float类型的attn_mask，就不会有类型不匹配的问题\n",
        "        attn_mask = tf.where(attn_mask != 0, -100.0, attn_mask)\n",
        "        attn_mask = tf.where(attn_mask == 0, 0.0, attn_mask)\n",
        "\n",
        "        return attn_mask\n",
        "\n",
        "\n",
        "\n",
        "    def call(self, x, H, W, training=None):\n",
        "        attn_mask = self.create_mask(H, W)\n",
        "        for blk in self.blocks:\n",
        "            blk.H, blk.W = H, W\n",
        "            x = blk(x, attn_mask=attn_mask, training=training)\n",
        "\n",
        "        if self.downsample is not None:\n",
        "            x = self.downsample(x, H=H, W=W)\n",
        "            H, W = (H + 1) // 2, (W + 1) // 2\n",
        "        return x, H, W\n",
        "\n",
        "class SwinTransformer(Model):\n",
        "    def __init__(self, patch_size=4, num_classes=100,\n",
        "                 embed_dim=64, depths=(2, 2), num_heads=(2, 4),\n",
        "                 window_size=4, mlp_ratio=4., qkv_bias=True,\n",
        "                 drop_rate=0., attn_drop_rate=0., drop_path_rate=0.1,\n",
        "                 norm_layer=layers.LayerNormalization, name=None, **kwargs):\n",
        "        super().__init__(name=name)\n",
        "        self.num_classes = num_classes\n",
        "        self.num_layers = len(depths)\n",
        "        self.embed_dim = embed_dim\n",
        "        self.mlp_ratio = mlp_ratio\n",
        "\n",
        "        self.patch_embed = PatchEmbed(patch_size=patch_size,\n",
        "                                      embed_dim=embed_dim,\n",
        "                                      norm_layer=norm_layer)\n",
        "        self.pos_drop = layers.Dropout(drop_rate)\n",
        "\n",
        "        dpr = [x for x in np.linspace(0, drop_path_rate, sum(depths))]\n",
        "        self.stage_layers = []\n",
        "        for i_layer in range(self.num_layers):\n",
        "            layer = BasicLayer(dim=int(embed_dim * 2 ** i_layer),\n",
        "                               depth=depths[i_layer],\n",
        "                               num_heads=num_heads[i_layer],\n",
        "                               window_size=window_size,\n",
        "                               mlp_ratio=self.mlp_ratio,\n",
        "                               qkv_bias=qkv_bias,\n",
        "                               drop=drop_rate,\n",
        "                               attn_drop=attn_drop_rate,\n",
        "                               drop_path=dpr[sum(depths[:i_layer]):sum(depths[:i_layer + 1])],\n",
        "                               downsample=PatchMerging if (i_layer < self.num_layers - 1) else None,\n",
        "                               name=f\"layer{i_layer}\")\n",
        "            self.stage_layers.append(layer)\n",
        "\n",
        "        self.norm = norm_layer(epsilon=1e-6, name=\"norm\")\n",
        "        self.head = layers.Dense(num_classes,\n",
        "                                 kernel_initializer=initializers.TruncatedNormal(stddev=0.02),\n",
        "                                 bias_initializer=initializers.Zeros(),\n",
        "                                 name=\"head\")\n",
        "\n",
        "    def call(self, x, training=None):\n",
        "        x, H, W = self.patch_embed(x)\n",
        "        x = self.pos_drop(x, training=training)\n",
        "        for layer in self.stage_layers:\n",
        "            x, H, W = layer(x, H=H, W=W, training=training)\n",
        "        x = self.norm(x)\n",
        "        x = tf.reduce_mean(x, axis=1)\n",
        "        x = self.head(x)\n",
        "        return x\n",
        "\n",
        "\n",
        "# ------------------ CIFAR-100 数据加载与训练示例 ------------------ #\n",
        "\n",
        "# 加载CIFAR-100数据\n",
        "(x_train, y_train), (x_test, y_test) = tf.keras.datasets.cifar100.load_data()\n",
        "# 数据归一化\n",
        "x_train = x_train.astype(\"float32\") / 255.0\n",
        "x_test = x_test.astype(\"float32\") / 255.0\n",
        "\n",
        "# 将标签变为整数张量\n",
        "y_train = y_train.squeeze()\n",
        "y_test = y_test.squeeze()\n",
        "\n",
        "# 构建Dataset\n",
        "batch_size = 64\n",
        "train_ds = tf.data.Dataset.from_tensor_slices((x_train, y_train)).shuffle(50000).batch(batch_size)\n",
        "test_ds = tf.data.Dataset.from_tensor_slices((x_test, y_test)).batch(batch_size)\n",
        "\n",
        "# 实例化模型\n",
        "model = SwinTransformer(num_classes=100, patch_size=4, embed_dim=64, depths=(2,2), num_heads=(2,4), window_size=4)\n",
        "model.compile(\n",
        "    optimizer=tf.keras.optimizers.Adam(learning_rate=1e-3),\n",
        "    loss=tf.keras.losses.SparseCategoricalCrossentropy(from_logits=True),\n",
        "    metrics=[\"accuracy\"]\n",
        ")\n",
        "\n",
        "# 训练模型\n",
        "model.fit(train_ds, epochs=10, validation_data=test_ds)\n",
        "\n",
        "# 验证模型\n",
        "test_loss, test_acc = model.evaluate(test_ds)\n",
        "print(\"Test accuracy:\", test_acc)"
      ],
      "metadata": {
        "colab": {
          "base_uri": "https://localhost:8080/",
          "height": 1000
        },
        "id": "VeiFe7leQMdE",
        "outputId": "6d4299ce-20ba-4dcd-a1b9-c59c39c1a112"
      },
      "execution_count": 1,
      "outputs": [
        {
          "output_type": "stream",
          "name": "stdout",
          "text": [
            "Downloading data from https://www.cs.toronto.edu/~kriz/cifar-100-python.tar.gz\n",
            "\u001b[1m169001437/169001437\u001b[0m \u001b[32m━━━━━━━━━━━━━━━━━━━━\u001b[0m\u001b[37m\u001b[0m \u001b[1m19s\u001b[0m 0us/step\n",
            "Epoch 1/10\n"
          ]
        },
        {
          "output_type": "error",
          "ename": "InvalidArgumentError",
          "evalue": "Graph execution error:\n\nDetected at node swin_transformer_1/layer0_1/block0_1/Reshape defined at (most recent call last):\n<stack traces unavailable>\nInput to reshape is a tensor with 262144 values, but the requested shape has 4194304\n\nStack trace for op definition: \nFile \"/usr/lib/python3.10/runpy.py\", line 196, in _run_module_as_main\nFile \"/usr/lib/python3.10/runpy.py\", line 86, in _run_code\nFile \"/usr/local/lib/python3.10/dist-packages/colab_kernel_launcher.py\", line 37, in <module>\nFile \"/usr/local/lib/python3.10/dist-packages/traitlets/config/application.py\", line 992, in launch_instance\nFile \"/usr/local/lib/python3.10/dist-packages/ipykernel/kernelapp.py\", line 619, in start\nFile \"/usr/local/lib/python3.10/dist-packages/tornado/platform/asyncio.py\", line 195, in start\nFile \"/usr/lib/python3.10/asyncio/base_events.py\", line 603, in run_forever\nFile \"/usr/lib/python3.10/asyncio/base_events.py\", line 1909, in _run_once\nFile \"/usr/lib/python3.10/asyncio/events.py\", line 80, in _run\nFile \"/usr/local/lib/python3.10/dist-packages/tornado/ioloop.py\", line 685, in <lambda>\nFile \"/usr/local/lib/python3.10/dist-packages/tornado/ioloop.py\", line 738, in _run_callback\nFile \"/usr/local/lib/python3.10/dist-packages/tornado/gen.py\", line 825, in inner\nFile \"/usr/local/lib/python3.10/dist-packages/tornado/gen.py\", line 786, in run\nFile \"/usr/local/lib/python3.10/dist-packages/ipykernel/kernelbase.py\", line 361, in process_one\nFile \"/usr/local/lib/python3.10/dist-packages/tornado/gen.py\", line 234, in wrapper\nFile \"/usr/local/lib/python3.10/dist-packages/ipykernel/kernelbase.py\", line 261, in dispatch_shell\nFile \"/usr/local/lib/python3.10/dist-packages/tornado/gen.py\", line 234, in wrapper\nFile \"/usr/local/lib/python3.10/dist-packages/ipykernel/kernelbase.py\", line 539, in execute_request\nFile \"/usr/local/lib/python3.10/dist-packages/tornado/gen.py\", line 234, in wrapper\nFile \"/usr/local/lib/python3.10/dist-packages/ipykernel/ipkernel.py\", line 302, in do_execute\nFile \"/usr/local/lib/python3.10/dist-packages/ipykernel/zmqshell.py\", line 539, in run_cell\nFile \"/usr/local/lib/python3.10/dist-packages/IPython/core/interactiveshell.py\", line 2975, in run_cell\nFile \"/usr/local/lib/python3.10/dist-packages/IPython/core/interactiveshell.py\", line 3030, in _run_cell\nFile \"/usr/local/lib/python3.10/dist-packages/IPython/core/async_helpers.py\", line 78, in _pseudo_sync_runner\nFile \"/usr/local/lib/python3.10/dist-packages/IPython/core/interactiveshell.py\", line 3257, in run_cell_async\nFile \"/usr/local/lib/python3.10/dist-packages/IPython/core/interactiveshell.py\", line 3473, in run_ast_nodes\nFile \"/usr/local/lib/python3.10/dist-packages/IPython/core/interactiveshell.py\", line 3553, in run_code\nFile \"<ipython-input-1-40d6346fe299>\", line 501, in <cell line: 501>\nFile \"/usr/local/lib/python3.10/dist-packages/keras/src/utils/traceback_utils.py\", line 117, in error_handler\nFile \"/usr/local/lib/python3.10/dist-packages/keras/src/backend/tensorflow/trainer.py\", line 320, in fit\nFile \"/usr/local/lib/python3.10/dist-packages/keras/src/backend/tensorflow/trainer.py\", line 121, in one_step_on_iterator\nFile \"/usr/local/lib/python3.10/dist-packages/keras/src/backend/tensorflow/trainer.py\", line 108, in one_step_on_data\nFile \"/usr/local/lib/python3.10/dist-packages/keras/src/backend/tensorflow/trainer.py\", line 51, in train_step\nFile \"/usr/local/lib/python3.10/dist-packages/keras/src/utils/traceback_utils.py\", line 117, in error_handler\nFile \"/usr/local/lib/python3.10/dist-packages/keras/src/layers/layer.py\", line 901, in __call__\nFile \"/usr/local/lib/python3.10/dist-packages/keras/src/utils/traceback_utils.py\", line 117, in error_handler\nFile \"/usr/local/lib/python3.10/dist-packages/keras/src/ops/operation.py\", line 46, in __call__\nFile \"/usr/local/lib/python3.10/dist-packages/keras/src/utils/traceback_utils.py\", line 156, in error_handler\nFile \"<ipython-input-1-40d6346fe299>\", line 468, in call\nFile \"/usr/local/lib/python3.10/dist-packages/keras/src/utils/traceback_utils.py\", line 117, in error_handler\nFile \"/usr/local/lib/python3.10/dist-packages/keras/src/layers/layer.py\", line 901, in __call__\nFile \"/usr/local/lib/python3.10/dist-packages/keras/src/utils/traceback_utils.py\", line 117, in error_handler\nFile \"/usr/local/lib/python3.10/dist-packages/keras/src/ops/operation.py\", line 46, in __call__\nFile \"/usr/local/lib/python3.10/dist-packages/keras/src/utils/traceback_utils.py\", line 156, in error_handler\nFile \"<ipython-input-1-40d6346fe299>\", line 418, in call\nFile \"/usr/local/lib/python3.10/dist-packages/keras/src/utils/traceback_utils.py\", line 117, in error_handler\nFile \"/usr/local/lib/python3.10/dist-packages/keras/src/layers/layer.py\", line 901, in __call__\nFile \"/usr/local/lib/python3.10/dist-packages/keras/src/utils/traceback_utils.py\", line 117, in error_handler\nFile \"/usr/local/lib/python3.10/dist-packages/keras/src/ops/operation.py\", line 46, in __call__\nFile \"/usr/local/lib/python3.10/dist-packages/keras/src/utils/traceback_utils.py\", line 156, in error_handler\nFile \"<ipython-input-1-40d6346fe299>\", line 301, in call\n\n\t [[{{node swin_transformer_1/layer0_1/block0_1/Reshape}}]]\n\ttf2xla conversion failed while converting __inference_one_step_on_data_21407[]. Run with TF_DUMP_GRAPH_PREFIX=/path/to/dump/dir and --vmodule=xla_compiler=2 to obtain a dump of the compiled functions.\n\t [[StatefulPartitionedCall]] [Op:__inference_one_step_on_iterator_21816]",
          "traceback": [
            "\u001b[0;31m---------------------------------------------------------------------------\u001b[0m",
            "\u001b[0;31mInvalidArgumentError\u001b[0m                      Traceback (most recent call last)",
            "\u001b[0;32m<ipython-input-1-40d6346fe299>\u001b[0m in \u001b[0;36m<cell line: 501>\u001b[0;34m()\u001b[0m\n\u001b[1;32m    499\u001b[0m \u001b[0;34m\u001b[0m\u001b[0m\n\u001b[1;32m    500\u001b[0m \u001b[0;31m# 训练模型\u001b[0m\u001b[0;34m\u001b[0m\u001b[0;34m\u001b[0m\u001b[0m\n\u001b[0;32m--> 501\u001b[0;31m \u001b[0mmodel\u001b[0m\u001b[0;34m.\u001b[0m\u001b[0mfit\u001b[0m\u001b[0;34m(\u001b[0m\u001b[0mtrain_ds\u001b[0m\u001b[0;34m,\u001b[0m \u001b[0mepochs\u001b[0m\u001b[0;34m=\u001b[0m\u001b[0;36m10\u001b[0m\u001b[0;34m,\u001b[0m \u001b[0mvalidation_data\u001b[0m\u001b[0;34m=\u001b[0m\u001b[0mtest_ds\u001b[0m\u001b[0;34m)\u001b[0m\u001b[0;34m\u001b[0m\u001b[0;34m\u001b[0m\u001b[0m\n\u001b[0m\u001b[1;32m    502\u001b[0m \u001b[0;34m\u001b[0m\u001b[0m\n\u001b[1;32m    503\u001b[0m \u001b[0;31m# 验证模型\u001b[0m\u001b[0;34m\u001b[0m\u001b[0;34m\u001b[0m\u001b[0m\n",
            "\u001b[0;32m/usr/local/lib/python3.10/dist-packages/keras/src/utils/traceback_utils.py\u001b[0m in \u001b[0;36merror_handler\u001b[0;34m(*args, **kwargs)\u001b[0m\n\u001b[1;32m    120\u001b[0m             \u001b[0;31m# To get the full stack trace, call:\u001b[0m\u001b[0;34m\u001b[0m\u001b[0;34m\u001b[0m\u001b[0m\n\u001b[1;32m    121\u001b[0m             \u001b[0;31m# `keras.config.disable_traceback_filtering()`\u001b[0m\u001b[0;34m\u001b[0m\u001b[0;34m\u001b[0m\u001b[0m\n\u001b[0;32m--> 122\u001b[0;31m             \u001b[0;32mraise\u001b[0m \u001b[0me\u001b[0m\u001b[0;34m.\u001b[0m\u001b[0mwith_traceback\u001b[0m\u001b[0;34m(\u001b[0m\u001b[0mfiltered_tb\u001b[0m\u001b[0;34m)\u001b[0m \u001b[0;32mfrom\u001b[0m \u001b[0;32mNone\u001b[0m\u001b[0;34m\u001b[0m\u001b[0;34m\u001b[0m\u001b[0m\n\u001b[0m\u001b[1;32m    123\u001b[0m         \u001b[0;32mfinally\u001b[0m\u001b[0;34m:\u001b[0m\u001b[0;34m\u001b[0m\u001b[0;34m\u001b[0m\u001b[0m\n\u001b[1;32m    124\u001b[0m             \u001b[0;32mdel\u001b[0m \u001b[0mfiltered_tb\u001b[0m\u001b[0;34m\u001b[0m\u001b[0;34m\u001b[0m\u001b[0m\n",
            "\u001b[0;32m/usr/local/lib/python3.10/dist-packages/tensorflow/python/eager/execute.py\u001b[0m in \u001b[0;36mquick_execute\u001b[0;34m(op_name, num_outputs, inputs, attrs, ctx, name)\u001b[0m\n\u001b[1;32m     51\u001b[0m   \u001b[0;32mtry\u001b[0m\u001b[0;34m:\u001b[0m\u001b[0;34m\u001b[0m\u001b[0;34m\u001b[0m\u001b[0m\n\u001b[1;32m     52\u001b[0m     \u001b[0mctx\u001b[0m\u001b[0;34m.\u001b[0m\u001b[0mensure_initialized\u001b[0m\u001b[0;34m(\u001b[0m\u001b[0;34m)\u001b[0m\u001b[0;34m\u001b[0m\u001b[0;34m\u001b[0m\u001b[0m\n\u001b[0;32m---> 53\u001b[0;31m     tensors = pywrap_tfe.TFE_Py_Execute(ctx._handle, device_name, op_name,\n\u001b[0m\u001b[1;32m     54\u001b[0m                                         inputs, attrs, num_outputs)\n\u001b[1;32m     55\u001b[0m   \u001b[0;32mexcept\u001b[0m \u001b[0mcore\u001b[0m\u001b[0;34m.\u001b[0m\u001b[0m_NotOkStatusException\u001b[0m \u001b[0;32mas\u001b[0m \u001b[0me\u001b[0m\u001b[0;34m:\u001b[0m\u001b[0;34m\u001b[0m\u001b[0;34m\u001b[0m\u001b[0m\n",
            "\u001b[0;31mInvalidArgumentError\u001b[0m: Graph execution error:\n\nDetected at node swin_transformer_1/layer0_1/block0_1/Reshape defined at (most recent call last):\n<stack traces unavailable>\nInput to reshape is a tensor with 262144 values, but the requested shape has 4194304\n\nStack trace for op definition: \nFile \"/usr/lib/python3.10/runpy.py\", line 196, in _run_module_as_main\nFile \"/usr/lib/python3.10/runpy.py\", line 86, in _run_code\nFile \"/usr/local/lib/python3.10/dist-packages/colab_kernel_launcher.py\", line 37, in <module>\nFile \"/usr/local/lib/python3.10/dist-packages/traitlets/config/application.py\", line 992, in launch_instance\nFile \"/usr/local/lib/python3.10/dist-packages/ipykernel/kernelapp.py\", line 619, in start\nFile \"/usr/local/lib/python3.10/dist-packages/tornado/platform/asyncio.py\", line 195, in start\nFile \"/usr/lib/python3.10/asyncio/base_events.py\", line 603, in run_forever\nFile \"/usr/lib/python3.10/asyncio/base_events.py\", line 1909, in _run_once\nFile \"/usr/lib/python3.10/asyncio/events.py\", line 80, in _run\nFile \"/usr/local/lib/python3.10/dist-packages/tornado/ioloop.py\", line 685, in <lambda>\nFile \"/usr/local/lib/python3.10/dist-packages/tornado/ioloop.py\", line 738, in _run_callback\nFile \"/usr/local/lib/python3.10/dist-packages/tornado/gen.py\", line 825, in inner\nFile \"/usr/local/lib/python3.10/dist-packages/tornado/gen.py\", line 786, in run\nFile \"/usr/local/lib/python3.10/dist-packages/ipykernel/kernelbase.py\", line 361, in process_one\nFile \"/usr/local/lib/python3.10/dist-packages/tornado/gen.py\", line 234, in wrapper\nFile \"/usr/local/lib/python3.10/dist-packages/ipykernel/kernelbase.py\", line 261, in dispatch_shell\nFile \"/usr/local/lib/python3.10/dist-packages/tornado/gen.py\", line 234, in wrapper\nFile \"/usr/local/lib/python3.10/dist-packages/ipykernel/kernelbase.py\", line 539, in execute_request\nFile \"/usr/local/lib/python3.10/dist-packages/tornado/gen.py\", line 234, in wrapper\nFile \"/usr/local/lib/python3.10/dist-packages/ipykernel/ipkernel.py\", line 302, in do_execute\nFile \"/usr/local/lib/python3.10/dist-packages/ipykernel/zmqshell.py\", line 539, in run_cell\nFile \"/usr/local/lib/python3.10/dist-packages/IPython/core/interactiveshell.py\", line 2975, in run_cell\nFile \"/usr/local/lib/python3.10/dist-packages/IPython/core/interactiveshell.py\", line 3030, in _run_cell\nFile \"/usr/local/lib/python3.10/dist-packages/IPython/core/async_helpers.py\", line 78, in _pseudo_sync_runner\nFile \"/usr/local/lib/python3.10/dist-packages/IPython/core/interactiveshell.py\", line 3257, in run_cell_async\nFile \"/usr/local/lib/python3.10/dist-packages/IPython/core/interactiveshell.py\", line 3473, in run_ast_nodes\nFile \"/usr/local/lib/python3.10/dist-packages/IPython/core/interactiveshell.py\", line 3553, in run_code\nFile \"<ipython-input-1-40d6346fe299>\", line 501, in <cell line: 501>\nFile \"/usr/local/lib/python3.10/dist-packages/keras/src/utils/traceback_utils.py\", line 117, in error_handler\nFile \"/usr/local/lib/python3.10/dist-packages/keras/src/backend/tensorflow/trainer.py\", line 320, in fit\nFile \"/usr/local/lib/python3.10/dist-packages/keras/src/backend/tensorflow/trainer.py\", line 121, in one_step_on_iterator\nFile \"/usr/local/lib/python3.10/dist-packages/keras/src/backend/tensorflow/trainer.py\", line 108, in one_step_on_data\nFile \"/usr/local/lib/python3.10/dist-packages/keras/src/backend/tensorflow/trainer.py\", line 51, in train_step\nFile \"/usr/local/lib/python3.10/dist-packages/keras/src/utils/traceback_utils.py\", line 117, in error_handler\nFile \"/usr/local/lib/python3.10/dist-packages/keras/src/layers/layer.py\", line 901, in __call__\nFile \"/usr/local/lib/python3.10/dist-packages/keras/src/utils/traceback_utils.py\", line 117, in error_handler\nFile \"/usr/local/lib/python3.10/dist-packages/keras/src/ops/operation.py\", line 46, in __call__\nFile \"/usr/local/lib/python3.10/dist-packages/keras/src/utils/traceback_utils.py\", line 156, in error_handler\nFile \"<ipython-input-1-40d6346fe299>\", line 468, in call\nFile \"/usr/local/lib/python3.10/dist-packages/keras/src/utils/traceback_utils.py\", line 117, in error_handler\nFile \"/usr/local/lib/python3.10/dist-packages/keras/src/layers/layer.py\", line 901, in __call__\nFile \"/usr/local/lib/python3.10/dist-packages/keras/src/utils/traceback_utils.py\", line 117, in error_handler\nFile \"/usr/local/lib/python3.10/dist-packages/keras/src/ops/operation.py\", line 46, in __call__\nFile \"/usr/local/lib/python3.10/dist-packages/keras/src/utils/traceback_utils.py\", line 156, in error_handler\nFile \"<ipython-input-1-40d6346fe299>\", line 418, in call\nFile \"/usr/local/lib/python3.10/dist-packages/keras/src/utils/traceback_utils.py\", line 117, in error_handler\nFile \"/usr/local/lib/python3.10/dist-packages/keras/src/layers/layer.py\", line 901, in __call__\nFile \"/usr/local/lib/python3.10/dist-packages/keras/src/utils/traceback_utils.py\", line 117, in error_handler\nFile \"/usr/local/lib/python3.10/dist-packages/keras/src/ops/operation.py\", line 46, in __call__\nFile \"/usr/local/lib/python3.10/dist-packages/keras/src/utils/traceback_utils.py\", line 156, in error_handler\nFile \"<ipython-input-1-40d6346fe299>\", line 301, in call\n\n\t [[{{node swin_transformer_1/layer0_1/block0_1/Reshape}}]]\n\ttf2xla conversion failed while converting __inference_one_step_on_data_21407[]. Run with TF_DUMP_GRAPH_PREFIX=/path/to/dump/dir and --vmodule=xla_compiler=2 to obtain a dump of the compiled functions.\n\t [[StatefulPartitionedCall]] [Op:__inference_one_step_on_iterator_21816]"
          ]
        }
      ]
    }
  ]
}